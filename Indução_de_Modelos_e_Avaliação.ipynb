{
  "nbformat": 4,
  "nbformat_minor": 0,
  "metadata": {
    "colab": {
      "name": "Indução de Modelos e Avaliação",
      "provenance": [],
      "collapsed_sections": [
        "-A2A6C5x3Na1",
        "dzN4UkHa3kgp",
        "wgKI6ncjjUGv",
        "w0UhD1N13l89",
        "nh591vY53m0C",
        "yeJ6nHGS3oBr",
        "6NmpOwxL3o5T",
        "00FnA_shG-E4",
        "daZFUNh3Gv89"
      ],
      "toc_visible": true,
      "include_colab_link": true
    },
    "kernelspec": {
      "name": "python3",
      "display_name": "Python 3"
    }
  },
  "cells": [
    {
      "cell_type": "markdown",
      "metadata": {
        "id": "view-in-github",
        "colab_type": "text"
      },
      "source": [
        "<a href=\"https://colab.research.google.com/github/bianquini/HeartDisease-DataMining/blob/master/Indu%C3%A7%C3%A3o_de_Modelos_e_Avalia%C3%A7%C3%A3o.ipynb\" target=\"_parent\"><img src=\"https://colab.research.google.com/assets/colab-badge.svg\" alt=\"Open In Colab\"/></a>"
      ]
    },
    {
      "cell_type": "code",
      "metadata": {
        "id": "pLk1vfp-DcJI",
        "colab_type": "code",
        "colab": {}
      },
      "source": [
        "import numpy as np\n",
        "import pandas as pd\n",
        "import matplotlib.pyplot as plt\n",
        "\n",
        "from sklearn.tree import DecisionTreeClassifier\n",
        "from sklearn.tree import plot_tree\n",
        "\n",
        "from sklearn.metrics import accuracy_score\n",
        "from sklearn.metrics import confusion_matrix\n",
        "\n",
        "from sklearn.model_selection import train_test_split\n",
        "from sklearn.model_selection import cross_val_predict\n",
        "\n",
        "from sklearn.neighbors import KNeighborsClassifier\n",
        "\n",
        "from mlxtend.plotting import plot_decision_regions\n",
        "\n",
        "from sklearn import svm\n",
        "\n",
        "\n"
      ],
      "execution_count": 0,
      "outputs": []
    },
    {
      "cell_type": "code",
      "metadata": {
        "id": "xuJksvLHGEZJ",
        "colab_type": "code",
        "colab": {}
      },
      "source": [
        "dataFrame = pd.read_csv('https://raw.githubusercontent.com/bianquini/HeartDisease-DataMining/master/DS%20pr%C3%A9-processado.csv',index_col=[0])\n",
        "dataFrame"
      ],
      "execution_count": 0,
      "outputs": []
    },
    {
      "cell_type": "markdown",
      "metadata": {
        "id": "k4dp4h3Orxu1",
        "colab_type": "text"
      },
      "source": [
        "# Indução de Modelos de Avaliação"
      ]
    },
    {
      "cell_type": "markdown",
      "metadata": {
        "id": "7Kkz7Kzqsl_j",
        "colab_type": "text"
      },
      "source": [
        "## Arvore de Decisão"
      ]
    },
    {
      "cell_type": "markdown",
      "metadata": {
        "id": "gj_iwLrT26fD",
        "colab_type": "text"
      },
      "source": [
        "### Combinação 1"
      ]
    },
    {
      "cell_type": "code",
      "metadata": {
        "colab_type": "code",
        "outputId": "6d573111-67f9-462d-e961-6b7aa240919f",
        "id": "VGOBiyQQTzVx",
        "colab": {
          "base_uri": "https://localhost:8080/",
          "height": 126
        }
      },
      "source": [
        "modelDTC = DecisionTreeClassifier(criterion='entropy')\n",
        "\n",
        "X = dataFrame.drop(['target'], axis = 1)\n",
        "X = pd.get_dummies(X)\n",
        "y = dataFrame['target']\n",
        "\n",
        "modelDTC.fit(X,y)\n"
      ],
      "execution_count": 221,
      "outputs": [
        {
          "output_type": "execute_result",
          "data": {
            "text/plain": [
              "DecisionTreeClassifier(class_weight=None, criterion='entropy', max_depth=None,\n",
              "                       max_features=None, max_leaf_nodes=None,\n",
              "                       min_impurity_decrease=0.0, min_impurity_split=None,\n",
              "                       min_samples_leaf=1, min_samples_split=2,\n",
              "                       min_weight_fraction_leaf=0.0, presort=False,\n",
              "                       random_state=None, splitter='best')"
            ]
          },
          "metadata": {
            "tags": []
          },
          "execution_count": 221
        }
      ]
    },
    {
      "cell_type": "code",
      "metadata": {
        "colab_type": "code",
        "outputId": "01cc3233-105b-4053-ee05-29ae69c57cbb",
        "id": "22jpxIraT23G",
        "colab": {
          "base_uri": "https://localhost:8080/",
          "height": 866
        }
      },
      "source": [
        "plt.figure(figsize=(40,15))\n",
        "plot_tree(modelDTC, filled=True, class_names=y.unique(), feature_names = X.columns)\n",
        "plt.show()"
      ],
      "execution_count": 222,
      "outputs": [
        {
          "output_type": "display_data",
          "data": {
            "image/png": "[encoded data removed]",
            "text/plain": [
              "<Figure size 2880x1080 with 1 Axes>"
            ]
          },
          "metadata": {
            "tags": []
          }
        }
      ]
    },
    {
      "cell_type": "markdown",
      "metadata": {
        "id": "DqMZui7svafo",
        "colab_type": "text"
      },
      "source": [
        "#### Avaliação utilizando Holdout"
      ]
    },
    {
      "cell_type": "code",
      "metadata": {
        "colab_type": "code",
        "outputId": "c74070ad-7657-4464-d873-a4abf1f6d558",
        "id": "BVRls2E7TbON",
        "colab": {
          "base_uri": "https://localhost:8080/",
          "height": 126
        }
      },
      "source": [
        "modelDTC = DecisionTreeClassifier(criterion=\"entropy\")\n",
        "modelDTC.fit(X_train,y_train)\n"
      ],
      "execution_count": 223,
      "outputs": [
        {
          "output_type": "execute_result",
          "data": {
            "text/plain": [
              "DecisionTreeClassifier(class_weight=None, criterion='entropy', max_depth=None,\n",
              "                       max_features=None, max_leaf_nodes=None,\n",
              "                       min_impurity_decrease=0.0, min_impurity_split=None,\n",
              "                       min_samples_leaf=1, min_samples_split=2,\n",
              "                       min_weight_fraction_leaf=0.0, presort=False,\n",
              "                       random_state=None, splitter='best')"
            ]
          },
          "metadata": {
            "tags": []
          },
          "execution_count": 223
        }
      ]
    },
    {
      "cell_type": "code",
      "metadata": {
        "id": "isaaMdMPwaau",
        "colab_type": "code",
        "outputId": "e0e2f8e8-a2a2-4a18-a560-84be7fe19732",
        "colab": {
          "base_uri": "https://localhost:8080/",
          "height": 108
        }
      },
      "source": [
        "y_test_pred_DTC = modelDTC.predict(X_test)\n",
        "\n",
        "pd.DataFrame( \n",
        "    confusion_matrix(y_test, y_test_pred_DTC),\n",
        "    index = ['observed_healthy','observed_unhealthy'],\n",
        "    columns = ['predicted_healthy','predicted_unhealthy']\n",
        "    )"
      ],
      "execution_count": 224,
      "outputs": [
        {
          "output_type": "execute_result",
          "data": {
            "text/html": [
              "<div>\n",
              "<style scoped>\n",
              "    .dataframe tbody tr th:only-of-type {\n",
              "        vertical-align: middle;\n",
              "    }\n",
              "\n",
              "    .dataframe tbody tr th {\n",
              "        vertical-align: top;\n",
              "    }\n",
              "\n",
              "    .dataframe thead th {\n",
              "        text-align: right;\n",
              "    }\n",
              "</style>\n",
              "<table border=\"1\" class=\"dataframe\">\n",
              "  <thead>\n",
              "    <tr style=\"text-align: right;\">\n",
              "      <th></th>\n",
              "      <th>predicted_healthy</th>\n",
              "      <th>predicted_unhealthy</th>\n",
              "    </tr>\n",
              "  </thead>\n",
              "  <tbody>\n",
              "    <tr>\n",
              "      <th>observed_healthy</th>\n",
              "      <td>29</td>\n",
              "      <td>15</td>\n",
              "    </tr>\n",
              "    <tr>\n",
              "      <th>observed_unhealthy</th>\n",
              "      <td>9</td>\n",
              "      <td>38</td>\n",
              "    </tr>\n",
              "  </tbody>\n",
              "</table>\n",
              "</div>"
            ],
            "text/plain": [
              "                    predicted_healthy  predicted_unhealthy\n",
              "observed_healthy                   29                   15\n",
              "observed_unhealthy                  9                   38"
            ]
          },
          "metadata": {
            "tags": []
          },
          "execution_count": 224
        }
      ]
    },
    {
      "cell_type": "code",
      "metadata": {
        "id": "gpE74_LqyZF-",
        "colab_type": "code",
        "outputId": "9d603809-bceb-4c8e-9128-61642f533b23",
        "colab": {
          "base_uri": "https://localhost:8080/",
          "height": 35
        }
      },
      "source": [
        "accuracy_score(y_test,y_test_pred_DTC)"
      ],
      "execution_count": 225,
      "outputs": [
        {
          "output_type": "execute_result",
          "data": {
            "text/plain": [
              "0.7362637362637363"
            ]
          },
          "metadata": {
            "tags": []
          },
          "execution_count": 225
        }
      ]
    },
    {
      "cell_type": "markdown",
      "metadata": {
        "id": "n7cVHqM6eyBK",
        "colab_type": "text"
      },
      "source": [
        "#### Avaliação utilizando 10-folds cross-validation"
      ]
    },
    {
      "cell_type": "code",
      "metadata": {
        "id": "ohU1XJVZfRx-",
        "colab_type": "code",
        "outputId": "b9b4f7c9-a709-4e64-86b2-00e2695a9916",
        "colab": {
          "base_uri": "https://localhost:8080/",
          "height": 108
        }
      },
      "source": [
        "y_pred_DTC = cross_val_predict(modelDTC, X, y, cv=10)\n",
        "\n",
        "pd.DataFrame( \n",
        "    confusion_matrix(y, y_pred_DTC),\n",
        "    index = ['observed_healthy','observed_unhealthy'],\n",
        "    columns = ['predicted_healthy','predicted_unhealthy']\n",
        "    )"
      ],
      "execution_count": 226,
      "outputs": [
        {
          "output_type": "execute_result",
          "data": {
            "text/html": [
              "<div>\n",
              "<style scoped>\n",
              "    .dataframe tbody tr th:only-of-type {\n",
              "        vertical-align: middle;\n",
              "    }\n",
              "\n",
              "    .dataframe tbody tr th {\n",
              "        vertical-align: top;\n",
              "    }\n",
              "\n",
              "    .dataframe thead th {\n",
              "        text-align: right;\n",
              "    }\n",
              "</style>\n",
              "<table border=\"1\" class=\"dataframe\">\n",
              "  <thead>\n",
              "    <tr style=\"text-align: right;\">\n",
              "      <th></th>\n",
              "      <th>predicted_healthy</th>\n",
              "      <th>predicted_unhealthy</th>\n",
              "    </tr>\n",
              "  </thead>\n",
              "  <tbody>\n",
              "    <tr>\n",
              "      <th>observed_healthy</th>\n",
              "      <td>99</td>\n",
              "      <td>39</td>\n",
              "    </tr>\n",
              "    <tr>\n",
              "      <th>observed_unhealthy</th>\n",
              "      <td>39</td>\n",
              "      <td>126</td>\n",
              "    </tr>\n",
              "  </tbody>\n",
              "</table>\n",
              "</div>"
            ],
            "text/plain": [
              "                    predicted_healthy  predicted_unhealthy\n",
              "observed_healthy                   99                   39\n",
              "observed_unhealthy                 39                  126"
            ]
          },
          "metadata": {
            "tags": []
          },
          "execution_count": 226
        }
      ]
    },
    {
      "cell_type": "code",
      "metadata": {
        "id": "8C3tqnzRfwqc",
        "colab_type": "code",
        "outputId": "be01b480-fcbc-4e96-f223-7e59f1acae60",
        "colab": {
          "base_uri": "https://localhost:8080/",
          "height": 35
        }
      },
      "source": [
        "accuracy_score(y,y_pred_DTC)"
      ],
      "execution_count": 227,
      "outputs": [
        {
          "output_type": "execute_result",
          "data": {
            "text/plain": [
              "0.7425742574257426"
            ]
          },
          "metadata": {
            "tags": []
          },
          "execution_count": 227
        }
      ]
    },
    {
      "cell_type": "markdown",
      "metadata": {
        "id": "Q8WiT12m3A2Z",
        "colab_type": "text"
      },
      "source": [
        "### Combinação 2"
      ]
    },
    {
      "cell_type": "markdown",
      "metadata": {
        "colab_type": "text",
        "id": "6trUC7cr4KWX"
      },
      "source": [
        "#### Avaliação utilizando Holdout"
      ]
    },
    {
      "cell_type": "code",
      "metadata": {
        "id": "RWwSVXz-33h1",
        "colab_type": "code",
        "outputId": "beeffe1a-a666-4fbf-b874-66e69a93bcc3",
        "colab": {
          "base_uri": "https://localhost:8080/",
          "height": 126
        }
      },
      "source": [
        "modelDTC = DecisionTreeClassifier()\n",
        "modelDTC.fit(X_train,y_train)"
      ],
      "execution_count": 228,
      "outputs": [
        {
          "output_type": "execute_result",
          "data": {
            "text/plain": [
              "DecisionTreeClassifier(class_weight=None, criterion='gini', max_depth=None,\n",
              "                       max_features=None, max_leaf_nodes=None,\n",
              "                       min_impurity_decrease=0.0, min_impurity_split=None,\n",
              "                       min_samples_leaf=1, min_samples_split=2,\n",
              "                       min_weight_fraction_leaf=0.0, presort=False,\n",
              "                       random_state=None, splitter='best')"
            ]
          },
          "metadata": {
            "tags": []
          },
          "execution_count": 228
        }
      ]
    },
    {
      "cell_type": "code",
      "metadata": {
        "id": "GsFh3wMq36mj",
        "colab_type": "code",
        "outputId": "92b5a7fd-578e-4ccd-a942-e9b56786fd1c",
        "colab": {
          "base_uri": "https://localhost:8080/",
          "height": 108
        }
      },
      "source": [
        "y_test_pred_DTC = modelDTC.predict(X_test)\n",
        "\n",
        "pd.DataFrame( \n",
        "    confusion_matrix(y_test, y_test_pred_DTC),\n",
        "    index = ['observed_healthy','observed_unhealthy'],\n",
        "    columns = ['predicted_healthy','predicted_unhealthy']\n",
        "    )"
      ],
      "execution_count": 229,
      "outputs": [
        {
          "output_type": "execute_result",
          "data": {
            "text/html": [
              "<div>\n",
              "<style scoped>\n",
              "    .dataframe tbody tr th:only-of-type {\n",
              "        vertical-align: middle;\n",
              "    }\n",
              "\n",
              "    .dataframe tbody tr th {\n",
              "        vertical-align: top;\n",
              "    }\n",
              "\n",
              "    .dataframe thead th {\n",
              "        text-align: right;\n",
              "    }\n",
              "</style>\n",
              "<table border=\"1\" class=\"dataframe\">\n",
              "  <thead>\n",
              "    <tr style=\"text-align: right;\">\n",
              "      <th></th>\n",
              "      <th>predicted_healthy</th>\n",
              "      <th>predicted_unhealthy</th>\n",
              "    </tr>\n",
              "  </thead>\n",
              "  <tbody>\n",
              "    <tr>\n",
              "      <th>observed_healthy</th>\n",
              "      <td>31</td>\n",
              "      <td>13</td>\n",
              "    </tr>\n",
              "    <tr>\n",
              "      <th>observed_unhealthy</th>\n",
              "      <td>12</td>\n",
              "      <td>35</td>\n",
              "    </tr>\n",
              "  </tbody>\n",
              "</table>\n",
              "</div>"
            ],
            "text/plain": [
              "                    predicted_healthy  predicted_unhealthy\n",
              "observed_healthy                   31                   13\n",
              "observed_unhealthy                 12                   35"
            ]
          },
          "metadata": {
            "tags": []
          },
          "execution_count": 229
        }
      ]
    },
    {
      "cell_type": "code",
      "metadata": {
        "id": "7lZbt8_e36z_",
        "colab_type": "code",
        "outputId": "103a8868-e615-417b-b438-5fe49685ce73",
        "colab": {
          "base_uri": "https://localhost:8080/",
          "height": 35
        }
      },
      "source": [
        "accuracy_score(y_test,y_test_pred_DTC)"
      ],
      "execution_count": 230,
      "outputs": [
        {
          "output_type": "execute_result",
          "data": {
            "text/plain": [
              "0.7252747252747253"
            ]
          },
          "metadata": {
            "tags": []
          },
          "execution_count": 230
        }
      ]
    },
    {
      "cell_type": "markdown",
      "metadata": {
        "colab_type": "text",
        "id": "xMN1-U-Y4Te6"
      },
      "source": [
        "#### Avaliação utilizando 10-folds cross-validation"
      ]
    },
    {
      "cell_type": "code",
      "metadata": {
        "id": "4bV3Udwn37C2",
        "colab_type": "code",
        "outputId": "f67e2b09-0a35-42c9-8933-fae5992bd169",
        "colab": {
          "base_uri": "https://localhost:8080/",
          "height": 108
        }
      },
      "source": [
        "y_pred_DTC = cross_val_predict(modelDTC, X, y, cv=10)\n",
        "\n",
        "pd.DataFrame( \n",
        "    confusion_matrix(y, y_pred_DTC),\n",
        "    index = ['observed_healthy','observed_unhealthy'],\n",
        "    columns = ['predicted_healthy','predicted_unhealthy']\n",
        "    )"
      ],
      "execution_count": 231,
      "outputs": [
        {
          "output_type": "execute_result",
          "data": {
            "text/html": [
              "<div>\n",
              "<style scoped>\n",
              "    .dataframe tbody tr th:only-of-type {\n",
              "        vertical-align: middle;\n",
              "    }\n",
              "\n",
              "    .dataframe tbody tr th {\n",
              "        vertical-align: top;\n",
              "    }\n",
              "\n",
              "    .dataframe thead th {\n",
              "        text-align: right;\n",
              "    }\n",
              "</style>\n",
              "<table border=\"1\" class=\"dataframe\">\n",
              "  <thead>\n",
              "    <tr style=\"text-align: right;\">\n",
              "      <th></th>\n",
              "      <th>predicted_healthy</th>\n",
              "      <th>predicted_unhealthy</th>\n",
              "    </tr>\n",
              "  </thead>\n",
              "  <tbody>\n",
              "    <tr>\n",
              "      <th>observed_healthy</th>\n",
              "      <td>104</td>\n",
              "      <td>34</td>\n",
              "    </tr>\n",
              "    <tr>\n",
              "      <th>observed_unhealthy</th>\n",
              "      <td>40</td>\n",
              "      <td>125</td>\n",
              "    </tr>\n",
              "  </tbody>\n",
              "</table>\n",
              "</div>"
            ],
            "text/plain": [
              "                    predicted_healthy  predicted_unhealthy\n",
              "observed_healthy                  104                   34\n",
              "observed_unhealthy                 40                  125"
            ]
          },
          "metadata": {
            "tags": []
          },
          "execution_count": 231
        }
      ]
    },
    {
      "cell_type": "code",
      "metadata": {
        "id": "01kj3OId37SC",
        "colab_type": "code",
        "outputId": "a11cf3bc-f22a-48cd-84c8-a676af3930df",
        "colab": {
          "base_uri": "https://localhost:8080/",
          "height": 35
        }
      },
      "source": [
        "accuracy_score(y,y_pred_DTC)"
      ],
      "execution_count": 232,
      "outputs": [
        {
          "output_type": "execute_result",
          "data": {
            "text/plain": [
              "0.7557755775577558"
            ]
          },
          "metadata": {
            "tags": []
          },
          "execution_count": 232
        }
      ]
    },
    {
      "cell_type": "markdown",
      "metadata": {
        "id": "tgrn515b3Dtk",
        "colab_type": "text"
      },
      "source": [
        "### Combinação 3"
      ]
    },
    {
      "cell_type": "markdown",
      "metadata": {
        "colab_type": "text",
        "id": "lmh4X8HmHSAl"
      },
      "source": [
        "#### Avaliação utilizando Holdout"
      ]
    },
    {
      "cell_type": "code",
      "metadata": {
        "colab_type": "code",
        "outputId": "b2edf4b7-d7c9-4a23-a5b2-a7e24d6ce38d",
        "id": "coR2tdRqHSAl",
        "colab": {
          "base_uri": "https://localhost:8080/",
          "height": 126
        }
      },
      "source": [
        "modelDTC = DecisionTreeClassifier(criterion='entropy', splitter='random')\n",
        "modelDTC.fit(X_train,y_train)\n"
      ],
      "execution_count": 233,
      "outputs": [
        {
          "output_type": "execute_result",
          "data": {
            "text/plain": [
              "DecisionTreeClassifier(class_weight=None, criterion='entropy', max_depth=None,\n",
              "                       max_features=None, max_leaf_nodes=None,\n",
              "                       min_impurity_decrease=0.0, min_impurity_split=None,\n",
              "                       min_samples_leaf=1, min_samples_split=2,\n",
              "                       min_weight_fraction_leaf=0.0, presort=False,\n",
              "                       random_state=None, splitter='random')"
            ]
          },
          "metadata": {
            "tags": []
          },
          "execution_count": 233
        }
      ]
    },
    {
      "cell_type": "code",
      "metadata": {
        "colab_type": "code",
        "outputId": "aaca7ec7-068a-4a76-af4f-af2699e94108",
        "id": "uW7O47h_HSAn",
        "colab": {
          "base_uri": "https://localhost:8080/",
          "height": 108
        }
      },
      "source": [
        "y_test_pred_DTC = modelDTC.predict(X_test)\n",
        "\n",
        "pd.DataFrame( \n",
        "    confusion_matrix(y_test, y_test_pred_DTC),\n",
        "    index = ['observed_healthy','observed_unhealthy'],\n",
        "    columns = ['predicted_healthy','predicted_unhealthy']\n",
        "    )"
      ],
      "execution_count": 234,
      "outputs": [
        {
          "output_type": "execute_result",
          "data": {
            "text/html": [
              "<div>\n",
              "<style scoped>\n",
              "    .dataframe tbody tr th:only-of-type {\n",
              "        vertical-align: middle;\n",
              "    }\n",
              "\n",
              "    .dataframe tbody tr th {\n",
              "        vertical-align: top;\n",
              "    }\n",
              "\n",
              "    .dataframe thead th {\n",
              "        text-align: right;\n",
              "    }\n",
              "</style>\n",
              "<table border=\"1\" class=\"dataframe\">\n",
              "  <thead>\n",
              "    <tr style=\"text-align: right;\">\n",
              "      <th></th>\n",
              "      <th>predicted_healthy</th>\n",
              "      <th>predicted_unhealthy</th>\n",
              "    </tr>\n",
              "  </thead>\n",
              "  <tbody>\n",
              "    <tr>\n",
              "      <th>observed_healthy</th>\n",
              "      <td>33</td>\n",
              "      <td>11</td>\n",
              "    </tr>\n",
              "    <tr>\n",
              "      <th>observed_unhealthy</th>\n",
              "      <td>9</td>\n",
              "      <td>38</td>\n",
              "    </tr>\n",
              "  </tbody>\n",
              "</table>\n",
              "</div>"
            ],
            "text/plain": [
              "                    predicted_healthy  predicted_unhealthy\n",
              "observed_healthy                   33                   11\n",
              "observed_unhealthy                  9                   38"
            ]
          },
          "metadata": {
            "tags": []
          },
          "execution_count": 234
        }
      ]
    },
    {
      "cell_type": "code",
      "metadata": {
        "colab_type": "code",
        "outputId": "94280f47-f9e1-4455-ac45-98d5e68cf314",
        "id": "-_APTgGxHSAp",
        "colab": {
          "base_uri": "https://localhost:8080/",
          "height": 35
        }
      },
      "source": [
        "accuracy_score(y_test,y_test_pred_DTC)"
      ],
      "execution_count": 235,
      "outputs": [
        {
          "output_type": "execute_result",
          "data": {
            "text/plain": [
              "0.7802197802197802"
            ]
          },
          "metadata": {
            "tags": []
          },
          "execution_count": 235
        }
      ]
    },
    {
      "cell_type": "markdown",
      "metadata": {
        "colab_type": "text",
        "id": "tLHdRxiWHSAq"
      },
      "source": [
        "#### Avaliação utilizando 10-folds cross-validation"
      ]
    },
    {
      "cell_type": "code",
      "metadata": {
        "colab_type": "code",
        "outputId": "6205220d-70c6-4d8a-c066-a45e7279cc76",
        "id": "LLSf3ozsHSAr",
        "colab": {
          "base_uri": "https://localhost:8080/",
          "height": 108
        }
      },
      "source": [
        "y_pred_DTC = cross_val_predict(modelDTC, X, y, cv=10)\n",
        "\n",
        "pd.DataFrame( \n",
        "    confusion_matrix(y, y_pred_DTC),\n",
        "    index = ['observed_healthy','observed_unhealthy'],\n",
        "    columns = ['predicted_healthy','predicted_unhealthy']\n",
        "    )"
      ],
      "execution_count": 236,
      "outputs": [
        {
          "output_type": "execute_result",
          "data": {
            "text/html": [
              "<div>\n",
              "<style scoped>\n",
              "    .dataframe tbody tr th:only-of-type {\n",
              "        vertical-align: middle;\n",
              "    }\n",
              "\n",
              "    .dataframe tbody tr th {\n",
              "        vertical-align: top;\n",
              "    }\n",
              "\n",
              "    .dataframe thead th {\n",
              "        text-align: right;\n",
              "    }\n",
              "</style>\n",
              "<table border=\"1\" class=\"dataframe\">\n",
              "  <thead>\n",
              "    <tr style=\"text-align: right;\">\n",
              "      <th></th>\n",
              "      <th>predicted_healthy</th>\n",
              "      <th>predicted_unhealthy</th>\n",
              "    </tr>\n",
              "  </thead>\n",
              "  <tbody>\n",
              "    <tr>\n",
              "      <th>observed_healthy</th>\n",
              "      <td>107</td>\n",
              "      <td>31</td>\n",
              "    </tr>\n",
              "    <tr>\n",
              "      <th>observed_unhealthy</th>\n",
              "      <td>40</td>\n",
              "      <td>125</td>\n",
              "    </tr>\n",
              "  </tbody>\n",
              "</table>\n",
              "</div>"
            ],
            "text/plain": [
              "                    predicted_healthy  predicted_unhealthy\n",
              "observed_healthy                  107                   31\n",
              "observed_unhealthy                 40                  125"
            ]
          },
          "metadata": {
            "tags": []
          },
          "execution_count": 236
        }
      ]
    },
    {
      "cell_type": "code",
      "metadata": {
        "colab_type": "code",
        "outputId": "b27b5c27-dfc6-4e99-b0b6-fb22cd8f73da",
        "id": "q1aruJf4HSAt",
        "colab": {
          "base_uri": "https://localhost:8080/",
          "height": 35
        }
      },
      "source": [
        "accuracy_score(y,y_pred_DTC)"
      ],
      "execution_count": 237,
      "outputs": [
        {
          "output_type": "execute_result",
          "data": {
            "text/plain": [
              "0.7656765676567657"
            ]
          },
          "metadata": {
            "tags": []
          },
          "execution_count": 237
        }
      ]
    },
    {
      "cell_type": "markdown",
      "metadata": {
        "id": "I8lrUgwz3HdG",
        "colab_type": "text"
      },
      "source": [
        "### Combinação 4"
      ]
    },
    {
      "cell_type": "markdown",
      "metadata": {
        "colab_type": "text",
        "id": "qk6iBUnFHSk2"
      },
      "source": [
        "#### Avaliação utilizando Holdout"
      ]
    },
    {
      "cell_type": "code",
      "metadata": {
        "colab_type": "code",
        "outputId": "a4ece506-205d-4922-b0c9-b9778529f1fe",
        "id": "YL9ZPKHuHSk3",
        "colab": {
          "base_uri": "https://localhost:8080/",
          "height": 126
        }
      },
      "source": [
        "modelDTC = DecisionTreeClassifier(splitter='random')\n",
        "modelDTC.fit(X_train,y_train)\n"
      ],
      "execution_count": 238,
      "outputs": [
        {
          "output_type": "execute_result",
          "data": {
            "text/plain": [
              "DecisionTreeClassifier(class_weight=None, criterion='gini', max_depth=None,\n",
              "                       max_features=None, max_leaf_nodes=None,\n",
              "                       min_impurity_decrease=0.0, min_impurity_split=None,\n",
              "                       min_samples_leaf=1, min_samples_split=2,\n",
              "                       min_weight_fraction_leaf=0.0, presort=False,\n",
              "                       random_state=None, splitter='random')"
            ]
          },
          "metadata": {
            "tags": []
          },
          "execution_count": 238
        }
      ]
    },
    {
      "cell_type": "code",
      "metadata": {
        "colab_type": "code",
        "outputId": "b6767dc6-c8ec-4999-990a-27dee85c3db9",
        "id": "8elP_YzCHSk4",
        "colab": {
          "base_uri": "https://localhost:8080/",
          "height": 108
        }
      },
      "source": [
        "y_test_pred_DTC = modelDTC.predict(X_test)\n",
        "\n",
        "pd.DataFrame( \n",
        "    confusion_matrix(y_test, y_test_pred_DTC),\n",
        "    index = ['observed_healthy','observed_unhealthy'],\n",
        "    columns = ['predicted_healthy','predicted_unhealthy']\n",
        "    )"
      ],
      "execution_count": 239,
      "outputs": [
        {
          "output_type": "execute_result",
          "data": {
            "text/html": [
              "<div>\n",
              "<style scoped>\n",
              "    .dataframe tbody tr th:only-of-type {\n",
              "        vertical-align: middle;\n",
              "    }\n",
              "\n",
              "    .dataframe tbody tr th {\n",
              "        vertical-align: top;\n",
              "    }\n",
              "\n",
              "    .dataframe thead th {\n",
              "        text-align: right;\n",
              "    }\n",
              "</style>\n",
              "<table border=\"1\" class=\"dataframe\">\n",
              "  <thead>\n",
              "    <tr style=\"text-align: right;\">\n",
              "      <th></th>\n",
              "      <th>predicted_healthy</th>\n",
              "      <th>predicted_unhealthy</th>\n",
              "    </tr>\n",
              "  </thead>\n",
              "  <tbody>\n",
              "    <tr>\n",
              "      <th>observed_healthy</th>\n",
              "      <td>32</td>\n",
              "      <td>12</td>\n",
              "    </tr>\n",
              "    <tr>\n",
              "      <th>observed_unhealthy</th>\n",
              "      <td>8</td>\n",
              "      <td>39</td>\n",
              "    </tr>\n",
              "  </tbody>\n",
              "</table>\n",
              "</div>"
            ],
            "text/plain": [
              "                    predicted_healthy  predicted_unhealthy\n",
              "observed_healthy                   32                   12\n",
              "observed_unhealthy                  8                   39"
            ]
          },
          "metadata": {
            "tags": []
          },
          "execution_count": 239
        }
      ]
    },
    {
      "cell_type": "code",
      "metadata": {
        "colab_type": "code",
        "outputId": "bd6bc093-5a41-4b43-965f-423f26e5c8f2",
        "id": "PS6IN9kWHSk6",
        "colab": {
          "base_uri": "https://localhost:8080/",
          "height": 35
        }
      },
      "source": [
        "accuracy_score(y_test,y_test_pred_DTC)"
      ],
      "execution_count": 240,
      "outputs": [
        {
          "output_type": "execute_result",
          "data": {
            "text/plain": [
              "0.7802197802197802"
            ]
          },
          "metadata": {
            "tags": []
          },
          "execution_count": 240
        }
      ]
    },
    {
      "cell_type": "markdown",
      "metadata": {
        "colab_type": "text",
        "id": "ZNh1l2k9HSk7"
      },
      "source": [
        "#### Avaliação utilizando 10-folds cross-validation"
      ]
    },
    {
      "cell_type": "code",
      "metadata": {
        "colab_type": "code",
        "outputId": "f4e81887-a7d3-4b56-b1e0-b4868f5263bc",
        "id": "SrJrqPvOHSk7",
        "colab": {
          "base_uri": "https://localhost:8080/",
          "height": 108
        }
      },
      "source": [
        "y_pred_DTC = cross_val_predict(modelDTC, X, y, cv=10)\n",
        "\n",
        "pd.DataFrame( \n",
        "    confusion_matrix(y, y_pred_DTC),\n",
        "    index = ['observed_healthy','observed_unhealthy'],\n",
        "    columns = ['predicted_healthy','predicted_unhealthy']\n",
        "    )"
      ],
      "execution_count": 241,
      "outputs": [
        {
          "output_type": "execute_result",
          "data": {
            "text/html": [
              "<div>\n",
              "<style scoped>\n",
              "    .dataframe tbody tr th:only-of-type {\n",
              "        vertical-align: middle;\n",
              "    }\n",
              "\n",
              "    .dataframe tbody tr th {\n",
              "        vertical-align: top;\n",
              "    }\n",
              "\n",
              "    .dataframe thead th {\n",
              "        text-align: right;\n",
              "    }\n",
              "</style>\n",
              "<table border=\"1\" class=\"dataframe\">\n",
              "  <thead>\n",
              "    <tr style=\"text-align: right;\">\n",
              "      <th></th>\n",
              "      <th>predicted_healthy</th>\n",
              "      <th>predicted_unhealthy</th>\n",
              "    </tr>\n",
              "  </thead>\n",
              "  <tbody>\n",
              "    <tr>\n",
              "      <th>observed_healthy</th>\n",
              "      <td>107</td>\n",
              "      <td>31</td>\n",
              "    </tr>\n",
              "    <tr>\n",
              "      <th>observed_unhealthy</th>\n",
              "      <td>39</td>\n",
              "      <td>126</td>\n",
              "    </tr>\n",
              "  </tbody>\n",
              "</table>\n",
              "</div>"
            ],
            "text/plain": [
              "                    predicted_healthy  predicted_unhealthy\n",
              "observed_healthy                  107                   31\n",
              "observed_unhealthy                 39                  126"
            ]
          },
          "metadata": {
            "tags": []
          },
          "execution_count": 241
        }
      ]
    },
    {
      "cell_type": "code",
      "metadata": {
        "colab_type": "code",
        "outputId": "8a5ff8a4-80f3-400d-8f0a-cd0496ae246f",
        "id": "23Z60c5jHSk9",
        "colab": {
          "base_uri": "https://localhost:8080/",
          "height": 35
        }
      },
      "source": [
        "accuracy_score(y,y_pred_DTC)"
      ],
      "execution_count": 242,
      "outputs": [
        {
          "output_type": "execute_result",
          "data": {
            "text/plain": [
              "0.768976897689769"
            ]
          },
          "metadata": {
            "tags": []
          },
          "execution_count": 242
        }
      ]
    },
    {
      "cell_type": "markdown",
      "metadata": {
        "id": "Sa-LtHpt3IzH",
        "colab_type": "text"
      },
      "source": [
        "### Combinação 5"
      ]
    },
    {
      "cell_type": "markdown",
      "metadata": {
        "colab_type": "text",
        "id": "vMS8G43xHTKx"
      },
      "source": [
        "#### Avaliação utilizando Holdout"
      ]
    },
    {
      "cell_type": "code",
      "metadata": {
        "colab_type": "code",
        "outputId": "24dcca1e-e71e-41a8-ade5-7275a395d2b3",
        "id": "Q0oiSIA1HTKz",
        "colab": {
          "base_uri": "https://localhost:8080/",
          "height": 126
        }
      },
      "source": [
        "modelDTC = DecisionTreeClassifier(criterion='entropy', presort=True)\n",
        "modelDTC.fit(X_train,y_train)\n"
      ],
      "execution_count": 243,
      "outputs": [
        {
          "output_type": "execute_result",
          "data": {
            "text/plain": [
              "DecisionTreeClassifier(class_weight=None, criterion='entropy', max_depth=None,\n",
              "                       max_features=None, max_leaf_nodes=None,\n",
              "                       min_impurity_decrease=0.0, min_impurity_split=None,\n",
              "                       min_samples_leaf=1, min_samples_split=2,\n",
              "                       min_weight_fraction_leaf=0.0, presort=True,\n",
              "                       random_state=None, splitter='best')"
            ]
          },
          "metadata": {
            "tags": []
          },
          "execution_count": 243
        }
      ]
    },
    {
      "cell_type": "code",
      "metadata": {
        "colab_type": "code",
        "outputId": "eda04a88-0ec5-421b-af05-d2b3770d8d1c",
        "id": "kxBAQXOSHTK0",
        "colab": {
          "base_uri": "https://localhost:8080/",
          "height": 108
        }
      },
      "source": [
        "y_test_pred_DTC = modelDTC.predict(X_test)\n",
        "\n",
        "pd.DataFrame( \n",
        "    confusion_matrix(y_test, y_test_pred_DTC),\n",
        "    index = ['observed_healthy','observed_unhealthy'],\n",
        "    columns = ['predicted_healthy','predicted_unhealthy']\n",
        "    )"
      ],
      "execution_count": 244,
      "outputs": [
        {
          "output_type": "execute_result",
          "data": {
            "text/html": [
              "<div>\n",
              "<style scoped>\n",
              "    .dataframe tbody tr th:only-of-type {\n",
              "        vertical-align: middle;\n",
              "    }\n",
              "\n",
              "    .dataframe tbody tr th {\n",
              "        vertical-align: top;\n",
              "    }\n",
              "\n",
              "    .dataframe thead th {\n",
              "        text-align: right;\n",
              "    }\n",
              "</style>\n",
              "<table border=\"1\" class=\"dataframe\">\n",
              "  <thead>\n",
              "    <tr style=\"text-align: right;\">\n",
              "      <th></th>\n",
              "      <th>predicted_healthy</th>\n",
              "      <th>predicted_unhealthy</th>\n",
              "    </tr>\n",
              "  </thead>\n",
              "  <tbody>\n",
              "    <tr>\n",
              "      <th>observed_healthy</th>\n",
              "      <td>30</td>\n",
              "      <td>14</td>\n",
              "    </tr>\n",
              "    <tr>\n",
              "      <th>observed_unhealthy</th>\n",
              "      <td>10</td>\n",
              "      <td>37</td>\n",
              "    </tr>\n",
              "  </tbody>\n",
              "</table>\n",
              "</div>"
            ],
            "text/plain": [
              "                    predicted_healthy  predicted_unhealthy\n",
              "observed_healthy                   30                   14\n",
              "observed_unhealthy                 10                   37"
            ]
          },
          "metadata": {
            "tags": []
          },
          "execution_count": 244
        }
      ]
    },
    {
      "cell_type": "code",
      "metadata": {
        "colab_type": "code",
        "outputId": "5bd18163-b252-4d29-c03a-7825c65af755",
        "id": "JnzreFnGHTK2",
        "colab": {
          "base_uri": "https://localhost:8080/",
          "height": 35
        }
      },
      "source": [
        "accuracy_score(y_test,y_test_pred_DTC)"
      ],
      "execution_count": 245,
      "outputs": [
        {
          "output_type": "execute_result",
          "data": {
            "text/plain": [
              "0.7362637362637363"
            ]
          },
          "metadata": {
            "tags": []
          },
          "execution_count": 245
        }
      ]
    },
    {
      "cell_type": "markdown",
      "metadata": {
        "colab_type": "text",
        "id": "eIjybr0zHTK5"
      },
      "source": [
        "#### Avaliação utilizando 10-folds cross-validation"
      ]
    },
    {
      "cell_type": "code",
      "metadata": {
        "colab_type": "code",
        "outputId": "1918ef15-17b5-47a7-85c5-145f0a3add63",
        "id": "-sySej9cHTK5",
        "colab": {
          "base_uri": "https://localhost:8080/",
          "height": 108
        }
      },
      "source": [
        "y_pred_DTC = cross_val_predict(modelDTC, X, y, cv=10)\n",
        "\n",
        "pd.DataFrame( \n",
        "    confusion_matrix(y, y_pred_DTC),\n",
        "    index = ['observed_healthy','observed_unhealthy'],\n",
        "    columns = ['predicted_healthy','predicted_unhealthy']\n",
        "    )"
      ],
      "execution_count": 246,
      "outputs": [
        {
          "output_type": "execute_result",
          "data": {
            "text/html": [
              "<div>\n",
              "<style scoped>\n",
              "    .dataframe tbody tr th:only-of-type {\n",
              "        vertical-align: middle;\n",
              "    }\n",
              "\n",
              "    .dataframe tbody tr th {\n",
              "        vertical-align: top;\n",
              "    }\n",
              "\n",
              "    .dataframe thead th {\n",
              "        text-align: right;\n",
              "    }\n",
              "</style>\n",
              "<table border=\"1\" class=\"dataframe\">\n",
              "  <thead>\n",
              "    <tr style=\"text-align: right;\">\n",
              "      <th></th>\n",
              "      <th>predicted_healthy</th>\n",
              "      <th>predicted_unhealthy</th>\n",
              "    </tr>\n",
              "  </thead>\n",
              "  <tbody>\n",
              "    <tr>\n",
              "      <th>observed_healthy</th>\n",
              "      <td>97</td>\n",
              "      <td>41</td>\n",
              "    </tr>\n",
              "    <tr>\n",
              "      <th>observed_unhealthy</th>\n",
              "      <td>34</td>\n",
              "      <td>131</td>\n",
              "    </tr>\n",
              "  </tbody>\n",
              "</table>\n",
              "</div>"
            ],
            "text/plain": [
              "                    predicted_healthy  predicted_unhealthy\n",
              "observed_healthy                   97                   41\n",
              "observed_unhealthy                 34                  131"
            ]
          },
          "metadata": {
            "tags": []
          },
          "execution_count": 246
        }
      ]
    },
    {
      "cell_type": "code",
      "metadata": {
        "colab_type": "code",
        "outputId": "179ed403-1a7c-45d9-da62-d5932622e64e",
        "id": "kbhA0JSMHTK6",
        "colab": {
          "base_uri": "https://localhost:8080/",
          "height": 35
        }
      },
      "source": [
        "accuracy_score(y,y_pred_DTC)"
      ],
      "execution_count": 247,
      "outputs": [
        {
          "output_type": "execute_result",
          "data": {
            "text/plain": [
              "0.7524752475247525"
            ]
          },
          "metadata": {
            "tags": []
          },
          "execution_count": 247
        }
      ]
    },
    {
      "cell_type": "markdown",
      "metadata": {
        "id": "KCBl81GeKM5F",
        "colab_type": "text"
      },
      "source": [
        "## KNN"
      ]
    },
    {
      "cell_type": "markdown",
      "metadata": {
        "id": "fEqRf78zUmUd",
        "colab_type": "text"
      },
      "source": [
        "Para o  KNN foram construidos 5 combinações diferentes para realizar a avaliação e encontrar a melhor acurácia entre elas.\n",
        "\n",
        "Para isso os parametros testados foram:\n",
        "\n",
        "\n",
        "*   n_neighbors:  1, 3, 5, 20;\n",
        "*   weights: uniform, distance;\n",
        "*   P: 1 - Manhatan, 2 - Euclidiana"
      ]
    },
    {
      "cell_type": "markdown",
      "metadata": {
        "id": "-A2A6C5x3Na1",
        "colab_type": "text"
      },
      "source": [
        "### Combinação 1"
      ]
    },
    {
      "cell_type": "markdown",
      "metadata": {
        "id": "LM5g4jXXeYuc",
        "colab_type": "text"
      },
      "source": [
        "#### Avaliação utilizando holdout"
      ]
    },
    {
      "cell_type": "code",
      "metadata": {
        "id": "1afxrMBtKMhM",
        "colab_type": "code",
        "colab": {}
      },
      "source": [
        "modelKNN = KNeighborsClassifier(n_neighbors=1)\n",
        "modelKNN.fit(X_train,y_train)\n",
        "\n",
        "y_test_pred_KNN = modelKNN.predict(X_test)\n"
      ],
      "execution_count": 0,
      "outputs": []
    },
    {
      "cell_type": "code",
      "metadata": {
        "id": "sYAHjUWvUA6c",
        "colab_type": "code",
        "outputId": "71f7d904-00f3-433a-fc32-85a73ab8346d",
        "colab": {
          "base_uri": "https://localhost:8080/",
          "height": 108
        }
      },
      "source": [
        "pd.DataFrame( \n",
        "    confusion_matrix(y_test, y_test_pred_KNN),\n",
        "    index = ['observed_healthy','observed_unhealthy'],\n",
        "    columns = ['predicted_healthy','predicted_unhealthy']\n",
        "    )"
      ],
      "execution_count": 249,
      "outputs": [
        {
          "output_type": "execute_result",
          "data": {
            "text/html": [
              "<div>\n",
              "<style scoped>\n",
              "    .dataframe tbody tr th:only-of-type {\n",
              "        vertical-align: middle;\n",
              "    }\n",
              "\n",
              "    .dataframe tbody tr th {\n",
              "        vertical-align: top;\n",
              "    }\n",
              "\n",
              "    .dataframe thead th {\n",
              "        text-align: right;\n",
              "    }\n",
              "</style>\n",
              "<table border=\"1\" class=\"dataframe\">\n",
              "  <thead>\n",
              "    <tr style=\"text-align: right;\">\n",
              "      <th></th>\n",
              "      <th>predicted_healthy</th>\n",
              "      <th>predicted_unhealthy</th>\n",
              "    </tr>\n",
              "  </thead>\n",
              "  <tbody>\n",
              "    <tr>\n",
              "      <th>observed_healthy</th>\n",
              "      <td>27</td>\n",
              "      <td>17</td>\n",
              "    </tr>\n",
              "    <tr>\n",
              "      <th>observed_unhealthy</th>\n",
              "      <td>4</td>\n",
              "      <td>43</td>\n",
              "    </tr>\n",
              "  </tbody>\n",
              "</table>\n",
              "</div>"
            ],
            "text/plain": [
              "                    predicted_healthy  predicted_unhealthy\n",
              "observed_healthy                   27                   17\n",
              "observed_unhealthy                  4                   43"
            ]
          },
          "metadata": {
            "tags": []
          },
          "execution_count": 249
        }
      ]
    },
    {
      "cell_type": "code",
      "metadata": {
        "id": "7rZ8VqW6d06O",
        "colab_type": "code",
        "outputId": "6cdbf63a-d383-40d5-ff2a-75aa117e05f7",
        "colab": {
          "base_uri": "https://localhost:8080/",
          "height": 35
        }
      },
      "source": [
        "accuracy_score(y_test,y_test_pred_KNN)"
      ],
      "execution_count": 250,
      "outputs": [
        {
          "output_type": "execute_result",
          "data": {
            "text/plain": [
              "0.7692307692307693"
            ]
          },
          "metadata": {
            "tags": []
          },
          "execution_count": 250
        }
      ]
    },
    {
      "cell_type": "markdown",
      "metadata": {
        "colab_type": "text",
        "id": "FIdFjv3SgF0r"
      },
      "source": [
        "#### Avaliação utilizando 10-folds cross-validation"
      ]
    },
    {
      "cell_type": "code",
      "metadata": {
        "colab_type": "code",
        "outputId": "eb9aa6e4-5383-43f3-c03c-4ca73245ac79",
        "id": "9FBT-nDrgF0s",
        "colab": {
          "base_uri": "https://localhost:8080/",
          "height": 108
        }
      },
      "source": [
        "y_pred_KNN = cross_val_predict(modelKNN, X, y, cv=10)\n",
        "\n",
        "pd.DataFrame( \n",
        "    confusion_matrix(y, y_pred_KNN),\n",
        "    index = ['observed_healthy','observed_unhealthy'],\n",
        "    columns = ['predicted_healthy','predicted_unhealthy']\n",
        "    )"
      ],
      "execution_count": 251,
      "outputs": [
        {
          "output_type": "execute_result",
          "data": {
            "text/html": [
              "<div>\n",
              "<style scoped>\n",
              "    .dataframe tbody tr th:only-of-type {\n",
              "        vertical-align: middle;\n",
              "    }\n",
              "\n",
              "    .dataframe tbody tr th {\n",
              "        vertical-align: top;\n",
              "    }\n",
              "\n",
              "    .dataframe thead th {\n",
              "        text-align: right;\n",
              "    }\n",
              "</style>\n",
              "<table border=\"1\" class=\"dataframe\">\n",
              "  <thead>\n",
              "    <tr style=\"text-align: right;\">\n",
              "      <th></th>\n",
              "      <th>predicted_healthy</th>\n",
              "      <th>predicted_unhealthy</th>\n",
              "    </tr>\n",
              "  </thead>\n",
              "  <tbody>\n",
              "    <tr>\n",
              "      <th>observed_healthy</th>\n",
              "      <td>104</td>\n",
              "      <td>34</td>\n",
              "    </tr>\n",
              "    <tr>\n",
              "      <th>observed_unhealthy</th>\n",
              "      <td>32</td>\n",
              "      <td>133</td>\n",
              "    </tr>\n",
              "  </tbody>\n",
              "</table>\n",
              "</div>"
            ],
            "text/plain": [
              "                    predicted_healthy  predicted_unhealthy\n",
              "observed_healthy                  104                   34\n",
              "observed_unhealthy                 32                  133"
            ]
          },
          "metadata": {
            "tags": []
          },
          "execution_count": 251
        }
      ]
    },
    {
      "cell_type": "code",
      "metadata": {
        "colab_type": "code",
        "outputId": "6b9c6ce9-2791-4f6a-f621-3ad74df3aa12",
        "id": "ceuguFmRgF0u",
        "colab": {
          "base_uri": "https://localhost:8080/",
          "height": 35
        }
      },
      "source": [
        "accuracy_score(y,y_pred_KNN)"
      ],
      "execution_count": 252,
      "outputs": [
        {
          "output_type": "execute_result",
          "data": {
            "text/plain": [
              "0.7821782178217822"
            ]
          },
          "metadata": {
            "tags": []
          },
          "execution_count": 252
        }
      ]
    },
    {
      "cell_type": "markdown",
      "metadata": {
        "id": "uTK6agCT3Pey",
        "colab_type": "text"
      },
      "source": [
        "### Combinação 2"
      ]
    },
    {
      "cell_type": "markdown",
      "metadata": {
        "colab_type": "text",
        "id": "k_UWUVs793-U"
      },
      "source": [
        "#### Avaliação utilizando holdout"
      ]
    },
    {
      "cell_type": "code",
      "metadata": {
        "id": "iZCUrhiF9rEr",
        "colab_type": "code",
        "colab": {}
      },
      "source": [
        "modelKNN = KNeighborsClassifier(n_neighbors=3)\n",
        "modelKNN.fit(X_train,y_train)\n",
        "\n",
        "y_test_pred_KNN = modelKNN.predict(X_test)"
      ],
      "execution_count": 0,
      "outputs": []
    },
    {
      "cell_type": "code",
      "metadata": {
        "id": "D7gDN2Cu9x2x",
        "colab_type": "code",
        "outputId": "c53ba73b-67a2-446d-e12a-196d00a5db6f",
        "colab": {
          "base_uri": "https://localhost:8080/",
          "height": 108
        }
      },
      "source": [
        "pd.DataFrame( \n",
        "    confusion_matrix(y_test, y_test_pred_KNN),\n",
        "    index = ['observed_healthy','observed_unhealthy'],\n",
        "    columns = ['predicted_healthy','predicted_unhealthy']\n",
        "    )"
      ],
      "execution_count": 254,
      "outputs": [
        {
          "output_type": "execute_result",
          "data": {
            "text/html": [
              "<div>\n",
              "<style scoped>\n",
              "    .dataframe tbody tr th:only-of-type {\n",
              "        vertical-align: middle;\n",
              "    }\n",
              "\n",
              "    .dataframe tbody tr th {\n",
              "        vertical-align: top;\n",
              "    }\n",
              "\n",
              "    .dataframe thead th {\n",
              "        text-align: right;\n",
              "    }\n",
              "</style>\n",
              "<table border=\"1\" class=\"dataframe\">\n",
              "  <thead>\n",
              "    <tr style=\"text-align: right;\">\n",
              "      <th></th>\n",
              "      <th>predicted_healthy</th>\n",
              "      <th>predicted_unhealthy</th>\n",
              "    </tr>\n",
              "  </thead>\n",
              "  <tbody>\n",
              "    <tr>\n",
              "      <th>observed_healthy</th>\n",
              "      <td>28</td>\n",
              "      <td>16</td>\n",
              "    </tr>\n",
              "    <tr>\n",
              "      <th>observed_unhealthy</th>\n",
              "      <td>7</td>\n",
              "      <td>40</td>\n",
              "    </tr>\n",
              "  </tbody>\n",
              "</table>\n",
              "</div>"
            ],
            "text/plain": [
              "                    predicted_healthy  predicted_unhealthy\n",
              "observed_healthy                   28                   16\n",
              "observed_unhealthy                  7                   40"
            ]
          },
          "metadata": {
            "tags": []
          },
          "execution_count": 254
        }
      ]
    },
    {
      "cell_type": "code",
      "metadata": {
        "id": "tqfb208T-DS8",
        "colab_type": "code",
        "outputId": "f89c6b33-98cc-4d05-d22e-a7cf0844506f",
        "colab": {
          "base_uri": "https://localhost:8080/",
          "height": 35
        }
      },
      "source": [
        "accuracy_score(y_test,y_test_pred_KNN)"
      ],
      "execution_count": 255,
      "outputs": [
        {
          "output_type": "execute_result",
          "data": {
            "text/plain": [
              "0.7472527472527473"
            ]
          },
          "metadata": {
            "tags": []
          },
          "execution_count": 255
        }
      ]
    },
    {
      "cell_type": "markdown",
      "metadata": {
        "colab_type": "text",
        "id": "bZyZxMaP91AF"
      },
      "source": [
        "#### Avaliação utilizando 10-folds cross-validation"
      ]
    },
    {
      "cell_type": "code",
      "metadata": {
        "id": "kwC6K8pI9tWL",
        "colab_type": "code",
        "outputId": "cd38cbbc-f99d-466f-c287-89ce0943b0d2",
        "colab": {
          "base_uri": "https://localhost:8080/",
          "height": 108
        }
      },
      "source": [
        "y_pred_KNN = cross_val_predict(modelKNN, X, y, cv=10)\n",
        "\n",
        "pd.DataFrame( \n",
        "    confusion_matrix(y, y_pred_KNN),\n",
        "    index = ['observed_healthy','observed_unhealthy'],\n",
        "    columns = ['predicted_healthy','predicted_unhealthy']\n",
        "    )"
      ],
      "execution_count": 256,
      "outputs": [
        {
          "output_type": "execute_result",
          "data": {
            "text/html": [
              "<div>\n",
              "<style scoped>\n",
              "    .dataframe tbody tr th:only-of-type {\n",
              "        vertical-align: middle;\n",
              "    }\n",
              "\n",
              "    .dataframe tbody tr th {\n",
              "        vertical-align: top;\n",
              "    }\n",
              "\n",
              "    .dataframe thead th {\n",
              "        text-align: right;\n",
              "    }\n",
              "</style>\n",
              "<table border=\"1\" class=\"dataframe\">\n",
              "  <thead>\n",
              "    <tr style=\"text-align: right;\">\n",
              "      <th></th>\n",
              "      <th>predicted_healthy</th>\n",
              "      <th>predicted_unhealthy</th>\n",
              "    </tr>\n",
              "  </thead>\n",
              "  <tbody>\n",
              "    <tr>\n",
              "      <th>observed_healthy</th>\n",
              "      <td>97</td>\n",
              "      <td>41</td>\n",
              "    </tr>\n",
              "    <tr>\n",
              "      <th>observed_unhealthy</th>\n",
              "      <td>27</td>\n",
              "      <td>138</td>\n",
              "    </tr>\n",
              "  </tbody>\n",
              "</table>\n",
              "</div>"
            ],
            "text/plain": [
              "                    predicted_healthy  predicted_unhealthy\n",
              "observed_healthy                   97                   41\n",
              "observed_unhealthy                 27                  138"
            ]
          },
          "metadata": {
            "tags": []
          },
          "execution_count": 256
        }
      ]
    },
    {
      "cell_type": "code",
      "metadata": {
        "id": "7mHH4-Dg-F1s",
        "colab_type": "code",
        "outputId": "0990981c-0430-4d46-9595-14b5ca590589",
        "colab": {
          "base_uri": "https://localhost:8080/",
          "height": 35
        }
      },
      "source": [
        "accuracy_score(y,y_pred_KNN)"
      ],
      "execution_count": 257,
      "outputs": [
        {
          "output_type": "execute_result",
          "data": {
            "text/plain": [
              "0.7755775577557755"
            ]
          },
          "metadata": {
            "tags": []
          },
          "execution_count": 257
        }
      ]
    },
    {
      "cell_type": "markdown",
      "metadata": {
        "id": "RhyaYxmg3Qlr",
        "colab_type": "text"
      },
      "source": [
        "### Combinação 3"
      ]
    },
    {
      "cell_type": "markdown",
      "metadata": {
        "colab_type": "text",
        "id": "3crXau24BDqy"
      },
      "source": [
        "#### Avaliação utilizando holdout"
      ]
    },
    {
      "cell_type": "code",
      "metadata": {
        "colab_type": "code",
        "id": "hRITXQWw-pWY",
        "colab": {}
      },
      "source": [
        "modelKNN = KNeighborsClassifier(n_neighbors=5, weights='distance', p=1)\n",
        "modelKNN.fit(X_train,y_train)\n",
        "\n",
        "y_test_pred_KNN = modelKNN.predict(X_test)"
      ],
      "execution_count": 0,
      "outputs": []
    },
    {
      "cell_type": "code",
      "metadata": {
        "colab_type": "code",
        "id": "QHypyv3r-pWd",
        "outputId": "4a933e98-fb09-453f-abd6-dfa916d83fbd",
        "colab": {
          "base_uri": "https://localhost:8080/",
          "height": 108
        }
      },
      "source": [
        "pd.DataFrame( \n",
        "    confusion_matrix(y_test, y_test_pred_KNN),\n",
        "    index = ['observed_healthy','observed_unhealthy'],\n",
        "    columns = ['predicted_healthy','predicted_unhealthy']\n",
        "    )"
      ],
      "execution_count": 259,
      "outputs": [
        {
          "output_type": "execute_result",
          "data": {
            "text/html": [
              "<div>\n",
              "<style scoped>\n",
              "    .dataframe tbody tr th:only-of-type {\n",
              "        vertical-align: middle;\n",
              "    }\n",
              "\n",
              "    .dataframe tbody tr th {\n",
              "        vertical-align: top;\n",
              "    }\n",
              "\n",
              "    .dataframe thead th {\n",
              "        text-align: right;\n",
              "    }\n",
              "</style>\n",
              "<table border=\"1\" class=\"dataframe\">\n",
              "  <thead>\n",
              "    <tr style=\"text-align: right;\">\n",
              "      <th></th>\n",
              "      <th>predicted_healthy</th>\n",
              "      <th>predicted_unhealthy</th>\n",
              "    </tr>\n",
              "  </thead>\n",
              "  <tbody>\n",
              "    <tr>\n",
              "      <th>observed_healthy</th>\n",
              "      <td>30</td>\n",
              "      <td>14</td>\n",
              "    </tr>\n",
              "    <tr>\n",
              "      <th>observed_unhealthy</th>\n",
              "      <td>5</td>\n",
              "      <td>42</td>\n",
              "    </tr>\n",
              "  </tbody>\n",
              "</table>\n",
              "</div>"
            ],
            "text/plain": [
              "                    predicted_healthy  predicted_unhealthy\n",
              "observed_healthy                   30                   14\n",
              "observed_unhealthy                  5                   42"
            ]
          },
          "metadata": {
            "tags": []
          },
          "execution_count": 259
        }
      ]
    },
    {
      "cell_type": "code",
      "metadata": {
        "colab_type": "code",
        "outputId": "8a840c28-9010-4f22-9248-b58ddaaaa982",
        "id": "Yd4n9kpU-pWh",
        "colab": {
          "base_uri": "https://localhost:8080/",
          "height": 35
        }
      },
      "source": [
        "accuracy_score(y_test,y_test_pred_KNN)"
      ],
      "execution_count": 260,
      "outputs": [
        {
          "output_type": "execute_result",
          "data": {
            "text/plain": [
              "0.7912087912087912"
            ]
          },
          "metadata": {
            "tags": []
          },
          "execution_count": 260
        }
      ]
    },
    {
      "cell_type": "markdown",
      "metadata": {
        "colab_type": "text",
        "id": "D7nQKnNf-pWj"
      },
      "source": [
        "#### Avaliação utilizando 10-folds cross-validation"
      ]
    },
    {
      "cell_type": "code",
      "metadata": {
        "colab_type": "code",
        "outputId": "c566e6b2-0e09-498d-94b6-fe6942b0782f",
        "id": "W8kMd3kV-pWk",
        "colab": {
          "base_uri": "https://localhost:8080/",
          "height": 108
        }
      },
      "source": [
        "y_pred_KNN = cross_val_predict(modelKNN, X, y, cv=10)\n",
        "\n",
        "pd.DataFrame( \n",
        "    confusion_matrix(y, y_pred_KNN),\n",
        "    index = ['observed_healthy','observed_unhealthy'],\n",
        "    columns = ['predicted_healthy','predicted_unhealthy']\n",
        "    )"
      ],
      "execution_count": 261,
      "outputs": [
        {
          "output_type": "execute_result",
          "data": {
            "text/html": [
              "<div>\n",
              "<style scoped>\n",
              "    .dataframe tbody tr th:only-of-type {\n",
              "        vertical-align: middle;\n",
              "    }\n",
              "\n",
              "    .dataframe tbody tr th {\n",
              "        vertical-align: top;\n",
              "    }\n",
              "\n",
              "    .dataframe thead th {\n",
              "        text-align: right;\n",
              "    }\n",
              "</style>\n",
              "<table border=\"1\" class=\"dataframe\">\n",
              "  <thead>\n",
              "    <tr style=\"text-align: right;\">\n",
              "      <th></th>\n",
              "      <th>predicted_healthy</th>\n",
              "      <th>predicted_unhealthy</th>\n",
              "    </tr>\n",
              "  </thead>\n",
              "  <tbody>\n",
              "    <tr>\n",
              "      <th>observed_healthy</th>\n",
              "      <td>107</td>\n",
              "      <td>31</td>\n",
              "    </tr>\n",
              "    <tr>\n",
              "      <th>observed_unhealthy</th>\n",
              "      <td>27</td>\n",
              "      <td>138</td>\n",
              "    </tr>\n",
              "  </tbody>\n",
              "</table>\n",
              "</div>"
            ],
            "text/plain": [
              "                    predicted_healthy  predicted_unhealthy\n",
              "observed_healthy                  107                   31\n",
              "observed_unhealthy                 27                  138"
            ]
          },
          "metadata": {
            "tags": []
          },
          "execution_count": 261
        }
      ]
    },
    {
      "cell_type": "code",
      "metadata": {
        "colab_type": "code",
        "outputId": "2c300281-eb6a-43b1-f5f2-7e42ee35c375",
        "id": "G4LxY_hC-pWm",
        "colab": {
          "base_uri": "https://localhost:8080/",
          "height": 35
        }
      },
      "source": [
        "accuracy_score(y,y_pred_KNN)"
      ],
      "execution_count": 262,
      "outputs": [
        {
          "output_type": "execute_result",
          "data": {
            "text/plain": [
              "0.8085808580858086"
            ]
          },
          "metadata": {
            "tags": []
          },
          "execution_count": 262
        }
      ]
    },
    {
      "cell_type": "markdown",
      "metadata": {
        "id": "t8KUGqXk3RT0",
        "colab_type": "text"
      },
      "source": [
        "### Combinação 4"
      ]
    },
    {
      "cell_type": "markdown",
      "metadata": {
        "colab_type": "text",
        "id": "Mx4EcUGNBB9T"
      },
      "source": [
        "#### Avaliação utilizando holdout"
      ]
    },
    {
      "cell_type": "code",
      "metadata": {
        "colab_type": "code",
        "id": "U0PIfBasBB9V",
        "colab": {}
      },
      "source": [
        "modelKNN = KNeighborsClassifier(n_neighbors=5, weights='uniform', p=1)\n",
        "modelKNN.fit(X_train,y_train)\n",
        "\n",
        "y_test_pred_KNN = modelKNN.predict(X_test)"
      ],
      "execution_count": 0,
      "outputs": []
    },
    {
      "cell_type": "code",
      "metadata": {
        "colab_type": "code",
        "id": "YUEweMAuBB9Y",
        "outputId": "20d1dc5a-4cb4-49bd-c9fc-1aabb21792e0",
        "colab": {
          "base_uri": "https://localhost:8080/",
          "height": 108
        }
      },
      "source": [
        "pd.DataFrame( \n",
        "    confusion_matrix(y_test, y_test_pred_KNN),\n",
        "    index = ['observed_healthy','observed_unhealthy'],\n",
        "    columns = ['predicted_healthy','predicted_unhealthy']\n",
        "    )"
      ],
      "execution_count": 264,
      "outputs": [
        {
          "output_type": "execute_result",
          "data": {
            "text/html": [
              "<div>\n",
              "<style scoped>\n",
              "    .dataframe tbody tr th:only-of-type {\n",
              "        vertical-align: middle;\n",
              "    }\n",
              "\n",
              "    .dataframe tbody tr th {\n",
              "        vertical-align: top;\n",
              "    }\n",
              "\n",
              "    .dataframe thead th {\n",
              "        text-align: right;\n",
              "    }\n",
              "</style>\n",
              "<table border=\"1\" class=\"dataframe\">\n",
              "  <thead>\n",
              "    <tr style=\"text-align: right;\">\n",
              "      <th></th>\n",
              "      <th>predicted_healthy</th>\n",
              "      <th>predicted_unhealthy</th>\n",
              "    </tr>\n",
              "  </thead>\n",
              "  <tbody>\n",
              "    <tr>\n",
              "      <th>observed_healthy</th>\n",
              "      <td>30</td>\n",
              "      <td>14</td>\n",
              "    </tr>\n",
              "    <tr>\n",
              "      <th>observed_unhealthy</th>\n",
              "      <td>5</td>\n",
              "      <td>42</td>\n",
              "    </tr>\n",
              "  </tbody>\n",
              "</table>\n",
              "</div>"
            ],
            "text/plain": [
              "                    predicted_healthy  predicted_unhealthy\n",
              "observed_healthy                   30                   14\n",
              "observed_unhealthy                  5                   42"
            ]
          },
          "metadata": {
            "tags": []
          },
          "execution_count": 264
        }
      ]
    },
    {
      "cell_type": "code",
      "metadata": {
        "colab_type": "code",
        "outputId": "f1106a3b-a7aa-4eb6-94c3-079ebbadcf66",
        "id": "J4oEZ7UABB9a",
        "colab": {
          "base_uri": "https://localhost:8080/",
          "height": 35
        }
      },
      "source": [
        "accuracy_score(y_test,y_test_pred_KNN)"
      ],
      "execution_count": 265,
      "outputs": [
        {
          "output_type": "execute_result",
          "data": {
            "text/plain": [
              "0.7912087912087912"
            ]
          },
          "metadata": {
            "tags": []
          },
          "execution_count": 265
        }
      ]
    },
    {
      "cell_type": "markdown",
      "metadata": {
        "colab_type": "text",
        "id": "ZSu7Ut_NBB9c"
      },
      "source": [
        "#### Avaliação utilizando 10-folds cross-validation"
      ]
    },
    {
      "cell_type": "code",
      "metadata": {
        "colab_type": "code",
        "outputId": "da30043e-c9dc-4f8f-e24e-47faeaa8bb07",
        "id": "Geqcc-NbBB9d",
        "colab": {
          "base_uri": "https://localhost:8080/",
          "height": 108
        }
      },
      "source": [
        "y_pred_KNN = cross_val_predict(modelKNN, X, y, cv=10)\n",
        "\n",
        "pd.DataFrame( \n",
        "    confusion_matrix(y, y_pred_KNN),\n",
        "    index = ['observed_healthy','observed_unhealthy'],\n",
        "    columns = ['predicted_healthy','predicted_unhealthy']\n",
        "    )"
      ],
      "execution_count": 266,
      "outputs": [
        {
          "output_type": "execute_result",
          "data": {
            "text/html": [
              "<div>\n",
              "<style scoped>\n",
              "    .dataframe tbody tr th:only-of-type {\n",
              "        vertical-align: middle;\n",
              "    }\n",
              "\n",
              "    .dataframe tbody tr th {\n",
              "        vertical-align: top;\n",
              "    }\n",
              "\n",
              "    .dataframe thead th {\n",
              "        text-align: right;\n",
              "    }\n",
              "</style>\n",
              "<table border=\"1\" class=\"dataframe\">\n",
              "  <thead>\n",
              "    <tr style=\"text-align: right;\">\n",
              "      <th></th>\n",
              "      <th>predicted_healthy</th>\n",
              "      <th>predicted_unhealthy</th>\n",
              "    </tr>\n",
              "  </thead>\n",
              "  <tbody>\n",
              "    <tr>\n",
              "      <th>observed_healthy</th>\n",
              "      <td>104</td>\n",
              "      <td>34</td>\n",
              "    </tr>\n",
              "    <tr>\n",
              "      <th>observed_unhealthy</th>\n",
              "      <td>24</td>\n",
              "      <td>141</td>\n",
              "    </tr>\n",
              "  </tbody>\n",
              "</table>\n",
              "</div>"
            ],
            "text/plain": [
              "                    predicted_healthy  predicted_unhealthy\n",
              "observed_healthy                  104                   34\n",
              "observed_unhealthy                 24                  141"
            ]
          },
          "metadata": {
            "tags": []
          },
          "execution_count": 266
        }
      ]
    },
    {
      "cell_type": "code",
      "metadata": {
        "colab_type": "code",
        "outputId": "6ed34e29-cd6b-4d7c-a043-f758642db639",
        "id": "OryoiF_6BB9f",
        "colab": {
          "base_uri": "https://localhost:8080/",
          "height": 35
        }
      },
      "source": [
        "accuracy_score(y,y_pred_KNN)"
      ],
      "execution_count": 267,
      "outputs": [
        {
          "output_type": "execute_result",
          "data": {
            "text/plain": [
              "0.8085808580858086"
            ]
          },
          "metadata": {
            "tags": []
          },
          "execution_count": 267
        }
      ]
    },
    {
      "cell_type": "markdown",
      "metadata": {
        "id": "GLuA_J8r3SU5",
        "colab_type": "text"
      },
      "source": [
        "### Combinação 5"
      ]
    },
    {
      "cell_type": "markdown",
      "metadata": {
        "colab_type": "text",
        "id": "kNBglVIwBXpq"
      },
      "source": [
        "#### Avaliação utilizando holdout"
      ]
    },
    {
      "cell_type": "code",
      "metadata": {
        "colab_type": "code",
        "id": "PWBJWCocBXpw",
        "colab": {}
      },
      "source": [
        "modelKNN = KNeighborsClassifier(n_neighbors=20, weights='distance', p=1)\n",
        "modelKNN.fit(X_train,y_train)\n",
        "\n",
        "y_test_pred_KNN = modelKNN.predict(X_test)"
      ],
      "execution_count": 0,
      "outputs": []
    },
    {
      "cell_type": "code",
      "metadata": {
        "colab_type": "code",
        "outputId": "c6151c9d-8bcc-4578-e253-1fdf7676ab99",
        "id": "Cze4E75SBXpz",
        "colab": {
          "base_uri": "https://localhost:8080/",
          "height": 108
        }
      },
      "source": [
        "pd.DataFrame( \n",
        "    confusion_matrix(y_test, y_test_pred_KNN),\n",
        "    index = ['observed_healthy','observed_unhealthy'],\n",
        "    columns = ['predicted_healthy','predicted_unhealthy']\n",
        "    )"
      ],
      "execution_count": 269,
      "outputs": [
        {
          "output_type": "execute_result",
          "data": {
            "text/html": [
              "<div>\n",
              "<style scoped>\n",
              "    .dataframe tbody tr th:only-of-type {\n",
              "        vertical-align: middle;\n",
              "    }\n",
              "\n",
              "    .dataframe tbody tr th {\n",
              "        vertical-align: top;\n",
              "    }\n",
              "\n",
              "    .dataframe thead th {\n",
              "        text-align: right;\n",
              "    }\n",
              "</style>\n",
              "<table border=\"1\" class=\"dataframe\">\n",
              "  <thead>\n",
              "    <tr style=\"text-align: right;\">\n",
              "      <th></th>\n",
              "      <th>predicted_healthy</th>\n",
              "      <th>predicted_unhealthy</th>\n",
              "    </tr>\n",
              "  </thead>\n",
              "  <tbody>\n",
              "    <tr>\n",
              "      <th>observed_healthy</th>\n",
              "      <td>32</td>\n",
              "      <td>12</td>\n",
              "    </tr>\n",
              "    <tr>\n",
              "      <th>observed_unhealthy</th>\n",
              "      <td>6</td>\n",
              "      <td>41</td>\n",
              "    </tr>\n",
              "  </tbody>\n",
              "</table>\n",
              "</div>"
            ],
            "text/plain": [
              "                    predicted_healthy  predicted_unhealthy\n",
              "observed_healthy                   32                   12\n",
              "observed_unhealthy                  6                   41"
            ]
          },
          "metadata": {
            "tags": []
          },
          "execution_count": 269
        }
      ]
    },
    {
      "cell_type": "code",
      "metadata": {
        "colab_type": "code",
        "outputId": "613c5128-bf86-4e00-bb5d-d9753f2ed3b7",
        "id": "ypN_VhJVBXp4",
        "colab": {
          "base_uri": "https://localhost:8080/",
          "height": 35
        }
      },
      "source": [
        "accuracy_score(y_test,y_test_pred_KNN)"
      ],
      "execution_count": 270,
      "outputs": [
        {
          "output_type": "execute_result",
          "data": {
            "text/plain": [
              "0.8021978021978022"
            ]
          },
          "metadata": {
            "tags": []
          },
          "execution_count": 270
        }
      ]
    },
    {
      "cell_type": "markdown",
      "metadata": {
        "colab_type": "text",
        "id": "VpE0XR-8BXp6"
      },
      "source": [
        "#### Avaliação utilizando 10-folds cross-validation"
      ]
    },
    {
      "cell_type": "code",
      "metadata": {
        "colab_type": "code",
        "outputId": "95181d9a-7491-422f-bd5e-4a4ddbc5c373",
        "id": "vmd9U61wBXp7",
        "colab": {
          "base_uri": "https://localhost:8080/",
          "height": 108
        }
      },
      "source": [
        "y_pred_KNN = cross_val_predict(modelKNN, X, y, cv=10)\n",
        "\n",
        "pd.DataFrame( \n",
        "    confusion_matrix(y, y_pred_KNN),\n",
        "    index = ['observed_healthy','observed_unhealthy'],\n",
        "    columns = ['predicted_healthy','predicted_unhealthy']\n",
        "    )"
      ],
      "execution_count": 271,
      "outputs": [
        {
          "output_type": "execute_result",
          "data": {
            "text/html": [
              "<div>\n",
              "<style scoped>\n",
              "    .dataframe tbody tr th:only-of-type {\n",
              "        vertical-align: middle;\n",
              "    }\n",
              "\n",
              "    .dataframe tbody tr th {\n",
              "        vertical-align: top;\n",
              "    }\n",
              "\n",
              "    .dataframe thead th {\n",
              "        text-align: right;\n",
              "    }\n",
              "</style>\n",
              "<table border=\"1\" class=\"dataframe\">\n",
              "  <thead>\n",
              "    <tr style=\"text-align: right;\">\n",
              "      <th></th>\n",
              "      <th>predicted_healthy</th>\n",
              "      <th>predicted_unhealthy</th>\n",
              "    </tr>\n",
              "  </thead>\n",
              "  <tbody>\n",
              "    <tr>\n",
              "      <th>observed_healthy</th>\n",
              "      <td>109</td>\n",
              "      <td>29</td>\n",
              "    </tr>\n",
              "    <tr>\n",
              "      <th>observed_unhealthy</th>\n",
              "      <td>17</td>\n",
              "      <td>148</td>\n",
              "    </tr>\n",
              "  </tbody>\n",
              "</table>\n",
              "</div>"
            ],
            "text/plain": [
              "                    predicted_healthy  predicted_unhealthy\n",
              "observed_healthy                  109                   29\n",
              "observed_unhealthy                 17                  148"
            ]
          },
          "metadata": {
            "tags": []
          },
          "execution_count": 271
        }
      ]
    },
    {
      "cell_type": "code",
      "metadata": {
        "colab_type": "code",
        "outputId": "36ce8caf-ba2f-4c6a-eb65-d8e5e565160c",
        "id": "WGzLMKW4BXp-",
        "colab": {
          "base_uri": "https://localhost:8080/",
          "height": 35
        }
      },
      "source": [
        "accuracy_score(y,y_pred_KNN)"
      ],
      "execution_count": 272,
      "outputs": [
        {
          "output_type": "execute_result",
          "data": {
            "text/plain": [
              "0.8481848184818482"
            ]
          },
          "metadata": {
            "tags": []
          },
          "execution_count": 272
        }
      ]
    },
    {
      "cell_type": "markdown",
      "metadata": {
        "id": "fpSxxNlfBwcX",
        "colab_type": "text"
      },
      "source": [
        "### Resumo Avaliação KNN\n",
        "\n",
        "Conforme analisado nas combinções acima, pode-se concluir que a *quinta combinação* com um n_neighbors = 20  tivemos  uma maior acuracia, tomando como base o modelo de avaliação *10-folds cross-validation*. Também pode-se concluir que entre as combinações acima o calculo de distancia que otimizou a predição foi a *Distancia Manhatan* utilizando pesos ponderados para a avaliação de vizinhos mais próximos."
      ]
    },
    {
      "cell_type": "markdown",
      "metadata": {
        "id": "4GSzcW1tg4My",
        "colab_type": "text"
      },
      "source": [
        "## SVM"
      ]
    },
    {
      "cell_type": "markdown",
      "metadata": {
        "id": "ot10-wLvPT25",
        "colab_type": "text"
      },
      "source": [
        "Para o SVM foram construidos 6 combinações diferentes para realizar a avaliação e encontrar a melhor acurácia entre elas.\n",
        "\n",
        "Para isso os parametros testados foram:\n",
        "\n",
        "\n",
        "*   Kernel:  linear,polynomial e rbf;\n",
        "*   degree: grau do polinomio quando utilizado o kernel linear;\n",
        "*   C: parametro multiplicador para o erro;\n",
        "\n"
      ]
    },
    {
      "cell_type": "markdown",
      "metadata": {
        "id": "dzN4UkHa3kgp",
        "colab_type": "text"
      },
      "source": [
        "### Combinação 1"
      ]
    },
    {
      "cell_type": "markdown",
      "metadata": {
        "id": "wgKI6ncjjUGv",
        "colab_type": "text"
      },
      "source": [
        "#### Avaliação utilziando holdout"
      ]
    },
    {
      "cell_type": "code",
      "metadata": {
        "id": "WE5liSh3g6PC",
        "colab_type": "code",
        "outputId": "81174ed7-221c-4a34-a48f-7c909a411c55",
        "colab": {
          "base_uri": "https://localhost:8080/",
          "height": 0
        }
      },
      "source": [
        "modelSVM = svm.SVC(kernel='linear')\n",
        "modelSVM.fit(X_train,y_train)\n",
        "\n",
        "y_test_pred_SVM = modelSVM.predict(X_test)\n",
        "\n",
        "pd.DataFrame( \n",
        "    confusion_matrix(y_test, y_test_pred_SVM),\n",
        "    index = ['observed_healthy','observed_unhealthy'],\n",
        "    columns = ['predicted_healthy','predicted_unhealthy']\n",
        "    )"
      ],
      "execution_count": 273,
      "outputs": [
        {
          "output_type": "execute_result",
          "data": {
            "text/html": [
              "<div>\n",
              "<style scoped>\n",
              "    .dataframe tbody tr th:only-of-type {\n",
              "        vertical-align: middle;\n",
              "    }\n",
              "\n",
              "    .dataframe tbody tr th {\n",
              "        vertical-align: top;\n",
              "    }\n",
              "\n",
              "    .dataframe thead th {\n",
              "        text-align: right;\n",
              "    }\n",
              "</style>\n",
              "<table border=\"1\" class=\"dataframe\">\n",
              "  <thead>\n",
              "    <tr style=\"text-align: right;\">\n",
              "      <th></th>\n",
              "      <th>predicted_healthy</th>\n",
              "      <th>predicted_unhealthy</th>\n",
              "    </tr>\n",
              "  </thead>\n",
              "  <tbody>\n",
              "    <tr>\n",
              "      <th>observed_healthy</th>\n",
              "      <td>34</td>\n",
              "      <td>10</td>\n",
              "    </tr>\n",
              "    <tr>\n",
              "      <th>observed_unhealthy</th>\n",
              "      <td>5</td>\n",
              "      <td>42</td>\n",
              "    </tr>\n",
              "  </tbody>\n",
              "</table>\n",
              "</div>"
            ],
            "text/plain": [
              "                    predicted_healthy  predicted_unhealthy\n",
              "observed_healthy                   34                   10\n",
              "observed_unhealthy                  5                   42"
            ]
          },
          "metadata": {
            "tags": []
          },
          "execution_count": 273
        }
      ]
    },
    {
      "cell_type": "code",
      "metadata": {
        "id": "OlBQSwlWi03R",
        "colab_type": "code",
        "outputId": "d67cb37b-5107-49ff-8044-1cb046ddbfeb",
        "colab": {
          "base_uri": "https://localhost:8080/",
          "height": 0
        }
      },
      "source": [
        "accuracy_score(y_test, y_test_pred_SVM)"
      ],
      "execution_count": 274,
      "outputs": [
        {
          "output_type": "execute_result",
          "data": {
            "text/plain": [
              "0.8351648351648352"
            ]
          },
          "metadata": {
            "tags": []
          },
          "execution_count": 274
        }
      ]
    },
    {
      "cell_type": "markdown",
      "metadata": {
        "id": "8jciJ09AjY4W",
        "colab_type": "text"
      },
      "source": [
        "#### Avaliação utilizando 10-folds cross-validation"
      ]
    },
    {
      "cell_type": "code",
      "metadata": {
        "id": "Xq_fNmwvjdjZ",
        "colab_type": "code",
        "outputId": "b82839fb-1039-4d17-86ca-b865da6e8e5d",
        "colab": {
          "base_uri": "https://localhost:8080/",
          "height": 0
        }
      },
      "source": [
        "y_pred_SVM = cross_val_predict(modelSVM, X, y, cv=10)\n",
        "\n",
        "pd.DataFrame( \n",
        "    confusion_matrix(y, y_pred_SVM),\n",
        "    index = ['observed_healthy','observed_unhealthy'],\n",
        "    columns = ['predicted_healthy','predicted_unhealthy']\n",
        "    )"
      ],
      "execution_count": 275,
      "outputs": [
        {
          "output_type": "execute_result",
          "data": {
            "text/html": [
              "<div>\n",
              "<style scoped>\n",
              "    .dataframe tbody tr th:only-of-type {\n",
              "        vertical-align: middle;\n",
              "    }\n",
              "\n",
              "    .dataframe tbody tr th {\n",
              "        vertical-align: top;\n",
              "    }\n",
              "\n",
              "    .dataframe thead th {\n",
              "        text-align: right;\n",
              "    }\n",
              "</style>\n",
              "<table border=\"1\" class=\"dataframe\">\n",
              "  <thead>\n",
              "    <tr style=\"text-align: right;\">\n",
              "      <th></th>\n",
              "      <th>predicted_healthy</th>\n",
              "      <th>predicted_unhealthy</th>\n",
              "    </tr>\n",
              "  </thead>\n",
              "  <tbody>\n",
              "    <tr>\n",
              "      <th>observed_healthy</th>\n",
              "      <td>109</td>\n",
              "      <td>29</td>\n",
              "    </tr>\n",
              "    <tr>\n",
              "      <th>observed_unhealthy</th>\n",
              "      <td>15</td>\n",
              "      <td>150</td>\n",
              "    </tr>\n",
              "  </tbody>\n",
              "</table>\n",
              "</div>"
            ],
            "text/plain": [
              "                    predicted_healthy  predicted_unhealthy\n",
              "observed_healthy                  109                   29\n",
              "observed_unhealthy                 15                  150"
            ]
          },
          "metadata": {
            "tags": []
          },
          "execution_count": 275
        }
      ]
    },
    {
      "cell_type": "code",
      "metadata": {
        "id": "FqTR8DNSjrtX",
        "colab_type": "code",
        "outputId": "83867936-2493-4113-d39f-18440059630b",
        "colab": {
          "base_uri": "https://localhost:8080/",
          "height": 0
        }
      },
      "source": [
        "accuracy_score(y, y_pred_SVM)"
      ],
      "execution_count": 276,
      "outputs": [
        {
          "output_type": "execute_result",
          "data": {
            "text/plain": [
              "0.8547854785478548"
            ]
          },
          "metadata": {
            "tags": []
          },
          "execution_count": 276
        }
      ]
    },
    {
      "cell_type": "markdown",
      "metadata": {
        "id": "w0UhD1N13l89",
        "colab_type": "text"
      },
      "source": [
        "### Combinação 2"
      ]
    },
    {
      "cell_type": "markdown",
      "metadata": {
        "colab_type": "text",
        "id": "663DdELaG7xP"
      },
      "source": [
        "#### Avaliação utilizando holdout"
      ]
    },
    {
      "cell_type": "code",
      "metadata": {
        "colab_type": "code",
        "outputId": "71b78825-1aa9-4c64-f12d-3e9acb286576",
        "id": "0Twqre1WDEFz",
        "colab": {
          "base_uri": "https://localhost:8080/",
          "height": 0
        }
      },
      "source": [
        "modelSVM = svm.SVC(kernel='poly')\n",
        "modelSVM.fit(X_train,y_train)\n",
        "\n",
        "y_test_pred_SVM = modelSVM.predict(X_test)\n",
        "\n",
        "pd.DataFrame( \n",
        "    confusion_matrix(y_test, y_test_pred_SVM),\n",
        "    index = ['observed_healthy','observed_unhealthy'],\n",
        "    columns = ['predicted_healthy','predicted_unhealthy']\n",
        "    )"
      ],
      "execution_count": 277,
      "outputs": [
        {
          "output_type": "stream",
          "text": [
            "/usr/local/lib/python3.6/dist-packages/sklearn/svm/base.py:193: FutureWarning: The default value of gamma will change from 'auto' to 'scale' in version 0.22 to account better for unscaled features. Set gamma explicitly to 'auto' or 'scale' to avoid this warning.\n",
            "  \"avoid this warning.\", FutureWarning)\n"
          ],
          "name": "stderr"
        },
        {
          "output_type": "execute_result",
          "data": {
            "text/html": [
              "<div>\n",
              "<style scoped>\n",
              "    .dataframe tbody tr th:only-of-type {\n",
              "        vertical-align: middle;\n",
              "    }\n",
              "\n",
              "    .dataframe tbody tr th {\n",
              "        vertical-align: top;\n",
              "    }\n",
              "\n",
              "    .dataframe thead th {\n",
              "        text-align: right;\n",
              "    }\n",
              "</style>\n",
              "<table border=\"1\" class=\"dataframe\">\n",
              "  <thead>\n",
              "    <tr style=\"text-align: right;\">\n",
              "      <th></th>\n",
              "      <th>predicted_healthy</th>\n",
              "      <th>predicted_unhealthy</th>\n",
              "    </tr>\n",
              "  </thead>\n",
              "  <tbody>\n",
              "    <tr>\n",
              "      <th>observed_healthy</th>\n",
              "      <td>33</td>\n",
              "      <td>11</td>\n",
              "    </tr>\n",
              "    <tr>\n",
              "      <th>observed_unhealthy</th>\n",
              "      <td>8</td>\n",
              "      <td>39</td>\n",
              "    </tr>\n",
              "  </tbody>\n",
              "</table>\n",
              "</div>"
            ],
            "text/plain": [
              "                    predicted_healthy  predicted_unhealthy\n",
              "observed_healthy                   33                   11\n",
              "observed_unhealthy                  8                   39"
            ]
          },
          "metadata": {
            "tags": []
          },
          "execution_count": 277
        }
      ]
    },
    {
      "cell_type": "code",
      "metadata": {
        "colab_type": "code",
        "outputId": "f1924256-753c-41cf-d25d-6bb29b882930",
        "id": "zaoyZXgUDEF4",
        "colab": {
          "base_uri": "https://localhost:8080/",
          "height": 0
        }
      },
      "source": [
        "accuracy_score(y_test, y_test_pred_SVM)"
      ],
      "execution_count": 278,
      "outputs": [
        {
          "output_type": "execute_result",
          "data": {
            "text/plain": [
              "0.7912087912087912"
            ]
          },
          "metadata": {
            "tags": []
          },
          "execution_count": 278
        }
      ]
    },
    {
      "cell_type": "markdown",
      "metadata": {
        "colab_type": "text",
        "id": "oirhHhieDEF6"
      },
      "source": [
        "#### Avaliação utilizando 10-folds cross-validation"
      ]
    },
    {
      "cell_type": "code",
      "metadata": {
        "colab_type": "code",
        "outputId": "79e9d9fc-4bb7-4057-f846-d38ff37a37e2",
        "id": "XvQzVuCiDEF6",
        "colab": {
          "base_uri": "https://localhost:8080/",
          "height": 0
        }
      },
      "source": [
        "y_pred_SVM = cross_val_predict(modelSVM, X, y, cv=10)\n",
        "\n",
        "pd.DataFrame( \n",
        "    confusion_matrix(y, y_pred_SVM),\n",
        "    index = ['observed_healthy','observed_unhealthy'],\n",
        "    columns = ['predicted_healthy','predicted_unhealthy']\n",
        "    )"
      ],
      "execution_count": 0,
      "outputs": [
        {
          "output_type": "stream",
          "text": [
            "/usr/local/lib/python3.6/dist-packages/sklearn/svm/base.py:193: FutureWarning: The default value of gamma will change from 'auto' to 'scale' in version 0.22 to account better for unscaled features. Set gamma explicitly to 'auto' or 'scale' to avoid this warning.\n",
            "  \"avoid this warning.\", FutureWarning)\n",
            "/usr/local/lib/python3.6/dist-packages/sklearn/svm/base.py:193: FutureWarning: The default value of gamma will change from 'auto' to 'scale' in version 0.22 to account better for unscaled features. Set gamma explicitly to 'auto' or 'scale' to avoid this warning.\n",
            "  \"avoid this warning.\", FutureWarning)\n",
            "/usr/local/lib/python3.6/dist-packages/sklearn/svm/base.py:193: FutureWarning: The default value of gamma will change from 'auto' to 'scale' in version 0.22 to account better for unscaled features. Set gamma explicitly to 'auto' or 'scale' to avoid this warning.\n",
            "  \"avoid this warning.\", FutureWarning)\n",
            "/usr/local/lib/python3.6/dist-packages/sklearn/svm/base.py:193: FutureWarning: The default value of gamma will change from 'auto' to 'scale' in version 0.22 to account better for unscaled features. Set gamma explicitly to 'auto' or 'scale' to avoid this warning.\n",
            "  \"avoid this warning.\", FutureWarning)\n",
            "/usr/local/lib/python3.6/dist-packages/sklearn/svm/base.py:193: FutureWarning: The default value of gamma will change from 'auto' to 'scale' in version 0.22 to account better for unscaled features. Set gamma explicitly to 'auto' or 'scale' to avoid this warning.\n",
            "  \"avoid this warning.\", FutureWarning)\n",
            "/usr/local/lib/python3.6/dist-packages/sklearn/svm/base.py:193: FutureWarning: The default value of gamma will change from 'auto' to 'scale' in version 0.22 to account better for unscaled features. Set gamma explicitly to 'auto' or 'scale' to avoid this warning.\n",
            "  \"avoid this warning.\", FutureWarning)\n",
            "/usr/local/lib/python3.6/dist-packages/sklearn/svm/base.py:193: FutureWarning: The default value of gamma will change from 'auto' to 'scale' in version 0.22 to account better for unscaled features. Set gamma explicitly to 'auto' or 'scale' to avoid this warning.\n",
            "  \"avoid this warning.\", FutureWarning)\n",
            "/usr/local/lib/python3.6/dist-packages/sklearn/svm/base.py:193: FutureWarning: The default value of gamma will change from 'auto' to 'scale' in version 0.22 to account better for unscaled features. Set gamma explicitly to 'auto' or 'scale' to avoid this warning.\n",
            "  \"avoid this warning.\", FutureWarning)\n"
          ],
          "name": "stderr"
        }
      ]
    },
    {
      "cell_type": "code",
      "metadata": {
        "colab_type": "code",
        "id": "OKKVR2rsDEF8",
        "colab": {}
      },
      "source": [
        "accuracy_score(y, y_pred_SVM)"
      ],
      "execution_count": 0,
      "outputs": []
    },
    {
      "cell_type": "markdown",
      "metadata": {
        "id": "nh591vY53m0C",
        "colab_type": "text"
      },
      "source": [
        "### Combinação 3"
      ]
    },
    {
      "cell_type": "markdown",
      "metadata": {
        "colab_type": "text",
        "id": "gGjPaMlqG8rG"
      },
      "source": [
        "#### Avaliação utilizando holdout"
      ]
    },
    {
      "cell_type": "code",
      "metadata": {
        "colab_type": "code",
        "id": "pakCCcZJDEnB",
        "colab": {}
      },
      "source": [
        "modelSVM = svm.SVC(kernel='poly', degree=2)\n",
        "modelSVM.fit(X_train,y_train)\n",
        "\n",
        "y_test_pred_SVM = modelSVM.predict(X_test)\n",
        "\n",
        "pd.DataFrame( \n",
        "    confusion_matrix(y_test, y_test_pred_SVM),\n",
        "    index = ['observed_healthy','observed_unhealthy'],\n",
        "    columns = ['predicted_healthy','predicted_unhealthy']\n",
        "    )"
      ],
      "execution_count": 0,
      "outputs": []
    },
    {
      "cell_type": "code",
      "metadata": {
        "colab_type": "code",
        "id": "xaH0yK2qDEnE",
        "colab": {}
      },
      "source": [
        "accuracy_score(y_test, y_test_pred_SVM)"
      ],
      "execution_count": 0,
      "outputs": []
    },
    {
      "cell_type": "markdown",
      "metadata": {
        "colab_type": "text",
        "id": "_BAm4uB4DEnG"
      },
      "source": [
        "#### Avaliação utilizando 10-folds cross-validation"
      ]
    },
    {
      "cell_type": "code",
      "metadata": {
        "colab_type": "code",
        "id": "gbsX9Tr4DEnG",
        "colab": {}
      },
      "source": [
        "y_pred_SVM = cross_val_predict(modelSVM, X, y, cv=10)\n",
        "\n",
        "pd.DataFrame( \n",
        "    confusion_matrix(y, y_pred_SVM),\n",
        "    index = ['observed_healthy','observed_unhealthy'],\n",
        "    columns = ['predicted_healthy','predicted_unhealthy']\n",
        "    )"
      ],
      "execution_count": 0,
      "outputs": []
    },
    {
      "cell_type": "code",
      "metadata": {
        "colab_type": "code",
        "id": "6NkEnjCfDEnI",
        "colab": {}
      },
      "source": [
        "accuracy_score(y, y_pred_SVM)"
      ],
      "execution_count": 0,
      "outputs": []
    },
    {
      "cell_type": "markdown",
      "metadata": {
        "id": "yeJ6nHGS3oBr",
        "colab_type": "text"
      },
      "source": [
        "### Combinação 4"
      ]
    },
    {
      "cell_type": "markdown",
      "metadata": {
        "colab_type": "text",
        "id": "C1tWTTIfG9Js"
      },
      "source": [
        "#### Avaliação utilizando holdout"
      ]
    },
    {
      "cell_type": "code",
      "metadata": {
        "colab_type": "code",
        "id": "cDzmODvjDFJg",
        "colab": {}
      },
      "source": [
        "modelSVM = svm.SVC()\n",
        "modelSVM.fit(X_train,y_train)\n",
        "\n",
        "y_test_pred_SVM = modelSVM.predict(X_test)\n",
        "\n",
        "pd.DataFrame( \n",
        "    confusion_matrix(y_test, y_test_pred_SVM),\n",
        "    index = ['observed_healthy','observed_unhealthy'],\n",
        "    columns = ['predicted_healthy','predicted_unhealthy']\n",
        "    )"
      ],
      "execution_count": 0,
      "outputs": []
    },
    {
      "cell_type": "code",
      "metadata": {
        "colab_type": "code",
        "id": "H8knaCjYDFJi",
        "colab": {}
      },
      "source": [
        "accuracy_score(y_test, y_test_pred_SVM)"
      ],
      "execution_count": 0,
      "outputs": []
    },
    {
      "cell_type": "markdown",
      "metadata": {
        "colab_type": "text",
        "id": "WCxRqexSDFJk"
      },
      "source": [
        "#### Avaliação utilizando 10-folds cross-validation"
      ]
    },
    {
      "cell_type": "code",
      "metadata": {
        "colab_type": "code",
        "id": "SRcP3yoGDFJk",
        "colab": {}
      },
      "source": [
        "y_pred_SVM = cross_val_predict(modelSVM, X, y, cv=10)\n",
        "\n",
        "pd.DataFrame( \n",
        "    confusion_matrix(y, y_pred_SVM),\n",
        "    index = ['observed_healthy','observed_unhealthy'],\n",
        "    columns = ['predicted_healthy','predicted_unhealthy']\n",
        "    )"
      ],
      "execution_count": 0,
      "outputs": []
    },
    {
      "cell_type": "code",
      "metadata": {
        "colab_type": "code",
        "id": "58JUW8ARDFJm",
        "colab": {}
      },
      "source": [
        "accuracy_score(y, y_pred_SVM)"
      ],
      "execution_count": 0,
      "outputs": []
    },
    {
      "cell_type": "markdown",
      "metadata": {
        "id": "6NmpOwxL3o5T",
        "colab_type": "text"
      },
      "source": [
        "### Combinação 5"
      ]
    },
    {
      "cell_type": "markdown",
      "metadata": {
        "colab_type": "text",
        "id": "Dp4ygtq4G9ik"
      },
      "source": [
        "#### Avaliação utilizando holdout"
      ]
    },
    {
      "cell_type": "code",
      "metadata": {
        "colab_type": "code",
        "id": "hyCdtl6jDFni",
        "colab": {}
      },
      "source": [
        "modelSVM = svm.SVC(kernel='linear', C=5)\n",
        "modelSVM.fit(X_train,y_train)\n",
        "\n",
        "y_test_pred_SVM = modelSVM.predict(X_test)\n",
        "\n",
        "pd.DataFrame( \n",
        "    confusion_matrix(y_test, y_test_pred_SVM),\n",
        "    index = ['observed_healthy','observed_unhealthy'],\n",
        "    columns = ['predicted_healthy','predicted_unhealthy']\n",
        "    )"
      ],
      "execution_count": 0,
      "outputs": []
    },
    {
      "cell_type": "code",
      "metadata": {
        "colab_type": "code",
        "id": "x-NtZF7aDFnk",
        "colab": {}
      },
      "source": [
        "accuracy_score(y_test, y_test_pred_SVM)"
      ],
      "execution_count": 0,
      "outputs": []
    },
    {
      "cell_type": "markdown",
      "metadata": {
        "colab_type": "text",
        "id": "Bclj4v6ADFnm"
      },
      "source": [
        "#### Avaliação utilizando 10-folds cross-validation"
      ]
    },
    {
      "cell_type": "code",
      "metadata": {
        "colab_type": "code",
        "id": "2tUlmKPHDFnm",
        "colab": {}
      },
      "source": [
        "y_pred_SVM = cross_val_predict(modelSVM, X, y, cv=10)\n",
        "\n",
        "pd.DataFrame( \n",
        "    confusion_matrix(y, y_pred_SVM),\n",
        "    index = ['observed_healthy','observed_unhealthy'],\n",
        "    columns = ['predicted_healthy','predicted_unhealthy']\n",
        "    )"
      ],
      "execution_count": 0,
      "outputs": []
    },
    {
      "cell_type": "code",
      "metadata": {
        "colab_type": "code",
        "id": "UYGb8yuPDFnp",
        "colab": {}
      },
      "source": [
        "accuracy_score(y, y_pred_SVM)"
      ],
      "execution_count": 0,
      "outputs": []
    },
    {
      "cell_type": "markdown",
      "metadata": {
        "id": "gouGRRNOGqPH",
        "colab_type": "text"
      },
      "source": [
        "### Combinação 6"
      ]
    },
    {
      "cell_type": "markdown",
      "metadata": {
        "colab_type": "text",
        "id": "00FnA_shG-E4"
      },
      "source": [
        "#### Avaliação utilizando holdout"
      ]
    },
    {
      "cell_type": "code",
      "metadata": {
        "colab_type": "code",
        "id": "CKTfQNPvGv83",
        "colab": {}
      },
      "source": [
        "modelSVM = svm.SVC(C=5)\n",
        "modelSVM.fit(X_train,y_train)\n",
        "\n",
        "y_test_pred_SVM = modelSVM.predict(X_test)\n",
        "\n",
        "pd.DataFrame( \n",
        "    confusion_matrix(y_test, y_test_pred_SVM),\n",
        "    index = ['observed_healthy','observed_unhealthy'],\n",
        "    columns = ['predicted_healthy','predicted_unhealthy']\n",
        "    )"
      ],
      "execution_count": 0,
      "outputs": []
    },
    {
      "cell_type": "code",
      "metadata": {
        "colab_type": "code",
        "id": "QiAqg27IGv87",
        "colab": {}
      },
      "source": [
        "accuracy_score(y_test, y_test_pred_SVM)"
      ],
      "execution_count": 0,
      "outputs": []
    },
    {
      "cell_type": "markdown",
      "metadata": {
        "colab_type": "text",
        "id": "daZFUNh3Gv89"
      },
      "source": [
        "#### Avaliação utilizando 10-folds cross-validation"
      ]
    },
    {
      "cell_type": "code",
      "metadata": {
        "colab_type": "code",
        "id": "evIsLK3EGv8-",
        "colab": {}
      },
      "source": [
        "y_pred_SVM = cross_val_predict(modelSVM, X, y, cv=10)\n",
        "\n",
        "pd.DataFrame( \n",
        "    confusion_matrix(y, y_pred_SVM),\n",
        "    index = ['observed_healthy','observed_unhealthy'],\n",
        "    columns = ['predicted_healthy','predicted_unhealthy']\n",
        "    )"
      ],
      "execution_count": 0,
      "outputs": []
    },
    {
      "cell_type": "code",
      "metadata": {
        "colab_type": "code",
        "id": "PW0m0-CNGv8_",
        "colab": {}
      },
      "source": [
        "accuracy_score(y, y_pred_SVM)"
      ],
      "execution_count": 0,
      "outputs": []
    },
    {
      "cell_type": "markdown",
      "metadata": {
        "id": "YxR5R3f3QLjV",
        "colab_type": "text"
      },
      "source": [
        "### Resumo Avaliação SVM\n",
        "\n",
        "Conforme avaliado nas combinações acima, para este conjunto de dados, a combinação de SVM que apresentou um melhor resultado foi a *primeira combinação*, onde conseguiu-se uma acuracia de 85% aproximadamente, tomando como base o modelo de avaliação *10-folds cross-validation*. Na combinação citada foi utilizado o *Kernel Linear* sem valor definido para o parametro *C*.\n"
      ]
    },
    {
      "cell_type": "code",
      "metadata": {
        "id": "g1b1aLHcRG--",
        "colab_type": "code",
        "colab": {}
      },
      "source": [
        ""
      ],
      "execution_count": 0,
      "outputs": []
    }
  ]
}